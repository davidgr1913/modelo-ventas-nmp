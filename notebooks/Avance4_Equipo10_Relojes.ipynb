{
 "cells": [
  {
   "cell_type": "code",
   "execution_count": 2,
   "metadata": {
    "colab": {
     "base_uri": "https://localhost:8080/"
    },
    "executionInfo": {
     "elapsed": 550,
     "status": "ok",
     "timestamp": 1747275452857,
     "user": {
      "displayName": "David Nava Jiménez",
      "userId": "10453943596792754694"
     },
     "user_tz": 360
    },
    "id": "ITRG7raTjGE1",
    "outputId": "c492a956-1a7a-41f0-b53d-9d06a329ec2d"
   },
   "outputs": [],
   "source": [
    "#from google.colab import drive\n",
    "#drive.mount('/content/drive')"
   ]
  },
  {
   "cell_type": "code",
   "execution_count": 3,
   "metadata": {},
   "outputs": [
    {
     "name": "stdout",
     "output_type": "stream",
     "text": [
      "Requirement already satisfied: xgboost in c:\\users\\hp\\appdata\\local\\programs\\python\\python312\\lib\\site-packages (3.0.1)\n",
      "Requirement already satisfied: numpy in c:\\users\\hp\\appdata\\local\\programs\\python\\python312\\lib\\site-packages (from xgboost) (1.26.4)\n",
      "Requirement already satisfied: scipy in c:\\users\\hp\\appdata\\local\\programs\\python\\python312\\lib\\site-packages (from xgboost) (1.14.1)\n"
     ]
    },
    {
     "name": "stderr",
     "output_type": "stream",
     "text": [
      "\n",
      "[notice] A new release of pip is available: 24.2 -> 25.1.1\n",
      "[notice] To update, run: python.exe -m pip install --upgrade pip\n"
     ]
    }
   ],
   "source": [
    "!pip install xgboost"
   ]
  },
  {
   "cell_type": "code",
   "execution_count": 4,
   "metadata": {
    "executionInfo": {
     "elapsed": 3059,
     "status": "ok",
     "timestamp": 1747275455913,
     "user": {
      "displayName": "David Nava Jiménez",
      "userId": "10453943596792754694"
     },
     "user_tz": 360
    },
    "id": "WPhO5w33jm4F"
   },
   "outputs": [],
   "source": [
    "import pandas as pd\n",
    "import numpy as np\n",
    "import matplotlib.pyplot as plt\n",
    "from sklearn.model_selection import train_test_split\n",
    "from sklearn.model_selection import cross_validate\n",
    "from sklearn.model_selection import RepeatedKFold, RandomizedSearchCV\n",
    "from sklearn.model_selection import RepeatedStratifiedKFold\n",
    "from sklearn.pipeline import Pipeline\n",
    "from sklearn.decomposition import PCA\n",
    "#Models\n",
    "from sklearn.linear_model import LinearRegression\n",
    "from sklearn.preprocessing import PolynomialFeatures, StandardScaler\n",
    "from sklearn.linear_model import ElasticNet\n",
    "from sklearn.pipeline import Pipeline\n",
    "from sklearn.ensemble import RandomForestRegressor\n",
    "from sklearn.tree import DecisionTreeRegressor\n",
    "from xgboost import XGBRegressor\n",
    "from sklearn.neural_network import MLPRegressor\n",
    "from sklearn.svm import SVR\n",
    "from sklearn.metrics import mean_squared_error, r2_score\n",
    "\n"
   ]
  },
  {
   "cell_type": "code",
   "execution_count": 5,
   "metadata": {
    "executionInfo": {
     "elapsed": 29651,
     "status": "ok",
     "timestamp": 1747275485572,
     "user": {
      "displayName": "David Nava Jiménez",
      "userId": "10453943596792754694"
     },
     "user_tz": 360
    },
    "id": "83kOtwpIjrdv"
   },
   "outputs": [],
   "source": [
    "df = pd.read_csv('C:/Maestría Inteligencia artificial aplicada/Trimestre 7 (Proyecto integrador y TD)/Semana 6/Relojes/new_df_afterPCA_relojes.csv')"
   ]
  },
  {
   "cell_type": "code",
   "execution_count": 6,
   "metadata": {
    "colab": {
     "base_uri": "https://localhost:8080/",
     "height": 273
    },
    "executionInfo": {
     "elapsed": 13,
     "status": "ok",
     "timestamp": 1747275485576,
     "user": {
      "displayName": "David Nava Jiménez",
      "userId": "10453943596792754694"
     },
     "user_tz": 360
    },
    "id": "7PLYURX-kNEM",
    "outputId": "9475d83c-297c-4bf7-c3c4-fb4616725272"
   },
   "outputs": [
    {
     "data": {
      "text/html": [
       "<div>\n",
       "<style scoped>\n",
       "    .dataframe tbody tr th:only-of-type {\n",
       "        vertical-align: middle;\n",
       "    }\n",
       "\n",
       "    .dataframe tbody tr th {\n",
       "        vertical-align: top;\n",
       "    }\n",
       "\n",
       "    .dataframe thead th {\n",
       "        text-align: right;\n",
       "    }\n",
       "</style>\n",
       "<table border=\"1\" class=\"dataframe\">\n",
       "  <thead>\n",
       "    <tr style=\"text-align: right;\">\n",
       "      <th></th>\n",
       "      <th>PC1</th>\n",
       "      <th>PC2</th>\n",
       "      <th>PC3</th>\n",
       "      <th>PC4</th>\n",
       "      <th>PC5</th>\n",
       "      <th>PC6</th>\n",
       "      <th>ESTADO_SUCURSAL_BAJA CALIFORNIA NORTE</th>\n",
       "      <th>ESTADO_SUCURSAL_BAJA CALIFORNIA SUR</th>\n",
       "      <th>ESTADO_SUCURSAL_CAMPECHE</th>\n",
       "      <th>ESTADO_SUCURSAL_CHIAPAS</th>\n",
       "      <th>...</th>\n",
       "      <th>SUCURSAL_0</th>\n",
       "      <th>SUCURSAL_1</th>\n",
       "      <th>SUCURSAL_2</th>\n",
       "      <th>SUCURSAL_3</th>\n",
       "      <th>SUCURSAL_4</th>\n",
       "      <th>SUCURSAL_5</th>\n",
       "      <th>SUCURSAL_6</th>\n",
       "      <th>SUCURSAL_7</th>\n",
       "      <th>SUCURSAL_8</th>\n",
       "      <th>DIAS_ALMONEDA</th>\n",
       "    </tr>\n",
       "  </thead>\n",
       "  <tbody>\n",
       "    <tr>\n",
       "      <th>0</th>\n",
       "      <td>-3.102492</td>\n",
       "      <td>-0.618919</td>\n",
       "      <td>-0.145880</td>\n",
       "      <td>-1.046442</td>\n",
       "      <td>0.404695</td>\n",
       "      <td>-0.266622</td>\n",
       "      <td>0.0</td>\n",
       "      <td>0.0</td>\n",
       "      <td>0.0</td>\n",
       "      <td>0.0</td>\n",
       "      <td>...</td>\n",
       "      <td>0</td>\n",
       "      <td>0</td>\n",
       "      <td>0</td>\n",
       "      <td>0</td>\n",
       "      <td>0</td>\n",
       "      <td>0</td>\n",
       "      <td>0</td>\n",
       "      <td>0</td>\n",
       "      <td>1</td>\n",
       "      <td>941</td>\n",
       "    </tr>\n",
       "    <tr>\n",
       "      <th>1</th>\n",
       "      <td>-0.796030</td>\n",
       "      <td>-0.612233</td>\n",
       "      <td>-0.431807</td>\n",
       "      <td>-1.584384</td>\n",
       "      <td>0.470162</td>\n",
       "      <td>0.210791</td>\n",
       "      <td>0.0</td>\n",
       "      <td>0.0</td>\n",
       "      <td>0.0</td>\n",
       "      <td>0.0</td>\n",
       "      <td>...</td>\n",
       "      <td>0</td>\n",
       "      <td>0</td>\n",
       "      <td>0</td>\n",
       "      <td>0</td>\n",
       "      <td>0</td>\n",
       "      <td>0</td>\n",
       "      <td>0</td>\n",
       "      <td>1</td>\n",
       "      <td>0</td>\n",
       "      <td>862</td>\n",
       "    </tr>\n",
       "    <tr>\n",
       "      <th>2</th>\n",
       "      <td>-0.517033</td>\n",
       "      <td>-1.420369</td>\n",
       "      <td>-0.350544</td>\n",
       "      <td>-0.148040</td>\n",
       "      <td>0.219067</td>\n",
       "      <td>0.086779</td>\n",
       "      <td>0.0</td>\n",
       "      <td>0.0</td>\n",
       "      <td>0.0</td>\n",
       "      <td>0.0</td>\n",
       "      <td>...</td>\n",
       "      <td>0</td>\n",
       "      <td>0</td>\n",
       "      <td>0</td>\n",
       "      <td>0</td>\n",
       "      <td>0</td>\n",
       "      <td>0</td>\n",
       "      <td>0</td>\n",
       "      <td>1</td>\n",
       "      <td>1</td>\n",
       "      <td>787</td>\n",
       "    </tr>\n",
       "    <tr>\n",
       "      <th>3</th>\n",
       "      <td>2.456877</td>\n",
       "      <td>0.028970</td>\n",
       "      <td>-0.361319</td>\n",
       "      <td>0.246168</td>\n",
       "      <td>-0.172364</td>\n",
       "      <td>-0.135953</td>\n",
       "      <td>0.0</td>\n",
       "      <td>0.0</td>\n",
       "      <td>0.0</td>\n",
       "      <td>0.0</td>\n",
       "      <td>...</td>\n",
       "      <td>0</td>\n",
       "      <td>0</td>\n",
       "      <td>0</td>\n",
       "      <td>0</td>\n",
       "      <td>0</td>\n",
       "      <td>0</td>\n",
       "      <td>1</td>\n",
       "      <td>0</td>\n",
       "      <td>0</td>\n",
       "      <td>783</td>\n",
       "    </tr>\n",
       "    <tr>\n",
       "      <th>4</th>\n",
       "      <td>4.601417</td>\n",
       "      <td>1.142606</td>\n",
       "      <td>-0.323991</td>\n",
       "      <td>0.801250</td>\n",
       "      <td>-0.447801</td>\n",
       "      <td>-0.373943</td>\n",
       "      <td>0.0</td>\n",
       "      <td>0.0</td>\n",
       "      <td>0.0</td>\n",
       "      <td>0.0</td>\n",
       "      <td>...</td>\n",
       "      <td>0</td>\n",
       "      <td>0</td>\n",
       "      <td>0</td>\n",
       "      <td>0</td>\n",
       "      <td>0</td>\n",
       "      <td>0</td>\n",
       "      <td>0</td>\n",
       "      <td>0</td>\n",
       "      <td>1</td>\n",
       "      <td>767</td>\n",
       "    </tr>\n",
       "  </tbody>\n",
       "</table>\n",
       "<p>5 rows × 65 columns</p>\n",
       "</div>"
      ],
      "text/plain": [
       "        PC1       PC2       PC3       PC4       PC5       PC6  \\\n",
       "0 -3.102492 -0.618919 -0.145880 -1.046442  0.404695 -0.266622   \n",
       "1 -0.796030 -0.612233 -0.431807 -1.584384  0.470162  0.210791   \n",
       "2 -0.517033 -1.420369 -0.350544 -0.148040  0.219067  0.086779   \n",
       "3  2.456877  0.028970 -0.361319  0.246168 -0.172364 -0.135953   \n",
       "4  4.601417  1.142606 -0.323991  0.801250 -0.447801 -0.373943   \n",
       "\n",
       "   ESTADO_SUCURSAL_BAJA CALIFORNIA NORTE  ESTADO_SUCURSAL_BAJA CALIFORNIA SUR  \\\n",
       "0                                    0.0                                  0.0   \n",
       "1                                    0.0                                  0.0   \n",
       "2                                    0.0                                  0.0   \n",
       "3                                    0.0                                  0.0   \n",
       "4                                    0.0                                  0.0   \n",
       "\n",
       "   ESTADO_SUCURSAL_CAMPECHE  ESTADO_SUCURSAL_CHIAPAS  ...  SUCURSAL_0  \\\n",
       "0                       0.0                      0.0  ...           0   \n",
       "1                       0.0                      0.0  ...           0   \n",
       "2                       0.0                      0.0  ...           0   \n",
       "3                       0.0                      0.0  ...           0   \n",
       "4                       0.0                      0.0  ...           0   \n",
       "\n",
       "   SUCURSAL_1  SUCURSAL_2  SUCURSAL_3  SUCURSAL_4  SUCURSAL_5  SUCURSAL_6  \\\n",
       "0           0           0           0           0           0           0   \n",
       "1           0           0           0           0           0           0   \n",
       "2           0           0           0           0           0           0   \n",
       "3           0           0           0           0           0           1   \n",
       "4           0           0           0           0           0           0   \n",
       "\n",
       "   SUCURSAL_7  SUCURSAL_8  DIAS_ALMONEDA  \n",
       "0           0           1            941  \n",
       "1           1           0            862  \n",
       "2           1           1            787  \n",
       "3           0           0            783  \n",
       "4           0           1            767  \n",
       "\n",
       "[5 rows x 65 columns]"
      ]
     },
     "execution_count": 6,
     "metadata": {},
     "output_type": "execute_result"
    }
   ],
   "source": [
    "df.head(5)"
   ]
  },
  {
   "cell_type": "code",
   "execution_count": 7,
   "metadata": {
    "colab": {
     "base_uri": "https://localhost:8080/"
    },
    "executionInfo": {
     "elapsed": 5,
     "status": "ok",
     "timestamp": 1747275485582,
     "user": {
      "displayName": "David Nava Jiménez",
      "userId": "10453943596792754694"
     },
     "user_tz": 360
    },
    "id": "rCbiwVhUmpFk",
    "outputId": "7195545a-ea3d-48f8-bf75-d254072ed114"
   },
   "outputs": [
    {
     "data": {
      "text/plain": [
       "(33925, 65)"
      ]
     },
     "execution_count": 7,
     "metadata": {},
     "output_type": "execute_result"
    }
   ],
   "source": [
    "df.shape"
   ]
  },
  {
   "cell_type": "code",
   "execution_count": 8,
   "metadata": {
    "executionInfo": {
     "elapsed": 1039,
     "status": "ok",
     "timestamp": 1747275486622,
     "user": {
      "displayName": "David Nava Jiménez",
      "userId": "10453943596792754694"
     },
     "user_tz": 360
    },
    "id": "LHa1r0AwmkTb"
   },
   "outputs": [],
   "source": [
    "df = df.dropna()"
   ]
  },
  {
   "cell_type": "code",
   "execution_count": 9,
   "metadata": {
    "colab": {
     "base_uri": "https://localhost:8080/"
    },
    "executionInfo": {
     "elapsed": 7,
     "status": "ok",
     "timestamp": 1747275486628,
     "user": {
      "displayName": "David Nava Jiménez",
      "userId": "10453943596792754694"
     },
     "user_tz": 360
    },
    "id": "uErcO-fzmnUe",
    "outputId": "4e025bc2-b1dd-4e64-a92c-978fd541635d"
   },
   "outputs": [
    {
     "data": {
      "text/plain": [
       "(33925, 65)"
      ]
     },
     "execution_count": 9,
     "metadata": {},
     "output_type": "execute_result"
    }
   ],
   "source": [
    "df.shape"
   ]
  },
  {
   "cell_type": "markdown",
   "metadata": {
    "id": "0iZd0XIykdIR"
   },
   "source": [
    "Comentarios: A continuación vamos a particionar el dataframe en los datos que van a entrenar el modelo, validar y el testing. Como primer paso dejamos la variable objetivo a parte del dataframe de variables predictoras."
   ]
  },
  {
   "cell_type": "code",
   "execution_count": 10,
   "metadata": {
    "colab": {
     "base_uri": "https://localhost:8080/",
     "height": 461
    },
    "executionInfo": {
     "elapsed": 785,
     "status": "ok",
     "timestamp": 1747275487413,
     "user": {
      "displayName": "David Nava Jiménez",
      "userId": "10453943596792754694"
     },
     "user_tz": 360
    },
    "id": "aHx62yjAkwzM",
    "outputId": "2ccb2ff8-1008-4770-f402-8a3ce11bff54"
   },
   "outputs": [
    {
     "data": {
      "text/html": [
       "<div>\n",
       "<style scoped>\n",
       "    .dataframe tbody tr th:only-of-type {\n",
       "        vertical-align: middle;\n",
       "    }\n",
       "\n",
       "    .dataframe tbody tr th {\n",
       "        vertical-align: top;\n",
       "    }\n",
       "\n",
       "    .dataframe thead th {\n",
       "        text-align: right;\n",
       "    }\n",
       "</style>\n",
       "<table border=\"1\" class=\"dataframe\">\n",
       "  <thead>\n",
       "    <tr style=\"text-align: right;\">\n",
       "      <th></th>\n",
       "      <th>PC1</th>\n",
       "      <th>PC2</th>\n",
       "      <th>PC3</th>\n",
       "      <th>PC4</th>\n",
       "      <th>PC5</th>\n",
       "      <th>PC6</th>\n",
       "      <th>ESTADO_SUCURSAL_BAJA CALIFORNIA NORTE</th>\n",
       "      <th>ESTADO_SUCURSAL_BAJA CALIFORNIA SUR</th>\n",
       "      <th>ESTADO_SUCURSAL_CAMPECHE</th>\n",
       "      <th>ESTADO_SUCURSAL_CHIAPAS</th>\n",
       "      <th>...</th>\n",
       "      <th>TIPO_PRENDA_reloj</th>\n",
       "      <th>SUCURSAL_0</th>\n",
       "      <th>SUCURSAL_1</th>\n",
       "      <th>SUCURSAL_2</th>\n",
       "      <th>SUCURSAL_3</th>\n",
       "      <th>SUCURSAL_4</th>\n",
       "      <th>SUCURSAL_5</th>\n",
       "      <th>SUCURSAL_6</th>\n",
       "      <th>SUCURSAL_7</th>\n",
       "      <th>SUCURSAL_8</th>\n",
       "    </tr>\n",
       "  </thead>\n",
       "  <tbody>\n",
       "    <tr>\n",
       "      <th>0</th>\n",
       "      <td>-3.102492</td>\n",
       "      <td>-0.618919</td>\n",
       "      <td>-0.145880</td>\n",
       "      <td>-1.046442</td>\n",
       "      <td>0.404695</td>\n",
       "      <td>-0.266622</td>\n",
       "      <td>0.0</td>\n",
       "      <td>0.0</td>\n",
       "      <td>0.0</td>\n",
       "      <td>0.0</td>\n",
       "      <td>...</td>\n",
       "      <td>1.0</td>\n",
       "      <td>0</td>\n",
       "      <td>0</td>\n",
       "      <td>0</td>\n",
       "      <td>0</td>\n",
       "      <td>0</td>\n",
       "      <td>0</td>\n",
       "      <td>0</td>\n",
       "      <td>0</td>\n",
       "      <td>1</td>\n",
       "    </tr>\n",
       "    <tr>\n",
       "      <th>1</th>\n",
       "      <td>-0.796030</td>\n",
       "      <td>-0.612233</td>\n",
       "      <td>-0.431807</td>\n",
       "      <td>-1.584384</td>\n",
       "      <td>0.470162</td>\n",
       "      <td>0.210791</td>\n",
       "      <td>0.0</td>\n",
       "      <td>0.0</td>\n",
       "      <td>0.0</td>\n",
       "      <td>0.0</td>\n",
       "      <td>...</td>\n",
       "      <td>1.0</td>\n",
       "      <td>0</td>\n",
       "      <td>0</td>\n",
       "      <td>0</td>\n",
       "      <td>0</td>\n",
       "      <td>0</td>\n",
       "      <td>0</td>\n",
       "      <td>0</td>\n",
       "      <td>1</td>\n",
       "      <td>0</td>\n",
       "    </tr>\n",
       "    <tr>\n",
       "      <th>2</th>\n",
       "      <td>-0.517033</td>\n",
       "      <td>-1.420369</td>\n",
       "      <td>-0.350544</td>\n",
       "      <td>-0.148040</td>\n",
       "      <td>0.219067</td>\n",
       "      <td>0.086779</td>\n",
       "      <td>0.0</td>\n",
       "      <td>0.0</td>\n",
       "      <td>0.0</td>\n",
       "      <td>0.0</td>\n",
       "      <td>...</td>\n",
       "      <td>1.0</td>\n",
       "      <td>0</td>\n",
       "      <td>0</td>\n",
       "      <td>0</td>\n",
       "      <td>0</td>\n",
       "      <td>0</td>\n",
       "      <td>0</td>\n",
       "      <td>0</td>\n",
       "      <td>1</td>\n",
       "      <td>1</td>\n",
       "    </tr>\n",
       "    <tr>\n",
       "      <th>3</th>\n",
       "      <td>2.456877</td>\n",
       "      <td>0.028970</td>\n",
       "      <td>-0.361319</td>\n",
       "      <td>0.246168</td>\n",
       "      <td>-0.172364</td>\n",
       "      <td>-0.135953</td>\n",
       "      <td>0.0</td>\n",
       "      <td>0.0</td>\n",
       "      <td>0.0</td>\n",
       "      <td>0.0</td>\n",
       "      <td>...</td>\n",
       "      <td>1.0</td>\n",
       "      <td>0</td>\n",
       "      <td>0</td>\n",
       "      <td>0</td>\n",
       "      <td>0</td>\n",
       "      <td>0</td>\n",
       "      <td>0</td>\n",
       "      <td>1</td>\n",
       "      <td>0</td>\n",
       "      <td>0</td>\n",
       "    </tr>\n",
       "    <tr>\n",
       "      <th>4</th>\n",
       "      <td>4.601417</td>\n",
       "      <td>1.142606</td>\n",
       "      <td>-0.323991</td>\n",
       "      <td>0.801250</td>\n",
       "      <td>-0.447801</td>\n",
       "      <td>-0.373943</td>\n",
       "      <td>0.0</td>\n",
       "      <td>0.0</td>\n",
       "      <td>0.0</td>\n",
       "      <td>0.0</td>\n",
       "      <td>...</td>\n",
       "      <td>1.0</td>\n",
       "      <td>0</td>\n",
       "      <td>0</td>\n",
       "      <td>0</td>\n",
       "      <td>0</td>\n",
       "      <td>0</td>\n",
       "      <td>0</td>\n",
       "      <td>0</td>\n",
       "      <td>0</td>\n",
       "      <td>1</td>\n",
       "    </tr>\n",
       "    <tr>\n",
       "      <th>...</th>\n",
       "      <td>...</td>\n",
       "      <td>...</td>\n",
       "      <td>...</td>\n",
       "      <td>...</td>\n",
       "      <td>...</td>\n",
       "      <td>...</td>\n",
       "      <td>...</td>\n",
       "      <td>...</td>\n",
       "      <td>...</td>\n",
       "      <td>...</td>\n",
       "      <td>...</td>\n",
       "      <td>...</td>\n",
       "      <td>...</td>\n",
       "      <td>...</td>\n",
       "      <td>...</td>\n",
       "      <td>...</td>\n",
       "      <td>...</td>\n",
       "      <td>...</td>\n",
       "      <td>...</td>\n",
       "      <td>...</td>\n",
       "      <td>...</td>\n",
       "    </tr>\n",
       "    <tr>\n",
       "      <th>33920</th>\n",
       "      <td>-0.783741</td>\n",
       "      <td>-2.993111</td>\n",
       "      <td>-0.568567</td>\n",
       "      <td>-0.489683</td>\n",
       "      <td>-1.875452</td>\n",
       "      <td>-0.640517</td>\n",
       "      <td>0.0</td>\n",
       "      <td>0.0</td>\n",
       "      <td>0.0</td>\n",
       "      <td>0.0</td>\n",
       "      <td>...</td>\n",
       "      <td>1.0</td>\n",
       "      <td>0</td>\n",
       "      <td>0</td>\n",
       "      <td>0</td>\n",
       "      <td>0</td>\n",
       "      <td>0</td>\n",
       "      <td>1</td>\n",
       "      <td>0</td>\n",
       "      <td>0</td>\n",
       "      <td>0</td>\n",
       "    </tr>\n",
       "    <tr>\n",
       "      <th>33921</th>\n",
       "      <td>-1.782705</td>\n",
       "      <td>-2.825057</td>\n",
       "      <td>-0.438366</td>\n",
       "      <td>-0.337646</td>\n",
       "      <td>-1.473801</td>\n",
       "      <td>-0.683229</td>\n",
       "      <td>0.0</td>\n",
       "      <td>0.0</td>\n",
       "      <td>0.0</td>\n",
       "      <td>0.0</td>\n",
       "      <td>...</td>\n",
       "      <td>1.0</td>\n",
       "      <td>0</td>\n",
       "      <td>0</td>\n",
       "      <td>0</td>\n",
       "      <td>0</td>\n",
       "      <td>0</td>\n",
       "      <td>1</td>\n",
       "      <td>0</td>\n",
       "      <td>0</td>\n",
       "      <td>0</td>\n",
       "    </tr>\n",
       "    <tr>\n",
       "      <th>33922</th>\n",
       "      <td>-3.202137</td>\n",
       "      <td>-2.451999</td>\n",
       "      <td>-0.408832</td>\n",
       "      <td>0.366651</td>\n",
       "      <td>-3.237874</td>\n",
       "      <td>6.180111</td>\n",
       "      <td>0.0</td>\n",
       "      <td>0.0</td>\n",
       "      <td>1.0</td>\n",
       "      <td>0.0</td>\n",
       "      <td>...</td>\n",
       "      <td>0.0</td>\n",
       "      <td>0</td>\n",
       "      <td>1</td>\n",
       "      <td>1</td>\n",
       "      <td>0</td>\n",
       "      <td>0</td>\n",
       "      <td>1</td>\n",
       "      <td>0</td>\n",
       "      <td>0</td>\n",
       "      <td>0</td>\n",
       "    </tr>\n",
       "    <tr>\n",
       "      <th>33923</th>\n",
       "      <td>2.712125</td>\n",
       "      <td>-1.150801</td>\n",
       "      <td>-0.499245</td>\n",
       "      <td>0.518431</td>\n",
       "      <td>-0.000846</td>\n",
       "      <td>-0.000287</td>\n",
       "      <td>0.0</td>\n",
       "      <td>0.0</td>\n",
       "      <td>0.0</td>\n",
       "      <td>0.0</td>\n",
       "      <td>...</td>\n",
       "      <td>1.0</td>\n",
       "      <td>0</td>\n",
       "      <td>1</td>\n",
       "      <td>1</td>\n",
       "      <td>1</td>\n",
       "      <td>1</td>\n",
       "      <td>0</td>\n",
       "      <td>1</td>\n",
       "      <td>1</td>\n",
       "      <td>1</td>\n",
       "    </tr>\n",
       "    <tr>\n",
       "      <th>33924</th>\n",
       "      <td>-1.824863</td>\n",
       "      <td>-1.173423</td>\n",
       "      <td>-0.098572</td>\n",
       "      <td>0.625926</td>\n",
       "      <td>0.259899</td>\n",
       "      <td>-0.046108</td>\n",
       "      <td>0.0</td>\n",
       "      <td>0.0</td>\n",
       "      <td>0.0</td>\n",
       "      <td>0.0</td>\n",
       "      <td>...</td>\n",
       "      <td>1.0</td>\n",
       "      <td>0</td>\n",
       "      <td>0</td>\n",
       "      <td>0</td>\n",
       "      <td>0</td>\n",
       "      <td>1</td>\n",
       "      <td>1</td>\n",
       "      <td>0</td>\n",
       "      <td>0</td>\n",
       "      <td>0</td>\n",
       "    </tr>\n",
       "  </tbody>\n",
       "</table>\n",
       "<p>33925 rows × 64 columns</p>\n",
       "</div>"
      ],
      "text/plain": [
       "            PC1       PC2       PC3       PC4       PC5       PC6  \\\n",
       "0     -3.102492 -0.618919 -0.145880 -1.046442  0.404695 -0.266622   \n",
       "1     -0.796030 -0.612233 -0.431807 -1.584384  0.470162  0.210791   \n",
       "2     -0.517033 -1.420369 -0.350544 -0.148040  0.219067  0.086779   \n",
       "3      2.456877  0.028970 -0.361319  0.246168 -0.172364 -0.135953   \n",
       "4      4.601417  1.142606 -0.323991  0.801250 -0.447801 -0.373943   \n",
       "...         ...       ...       ...       ...       ...       ...   \n",
       "33920 -0.783741 -2.993111 -0.568567 -0.489683 -1.875452 -0.640517   \n",
       "33921 -1.782705 -2.825057 -0.438366 -0.337646 -1.473801 -0.683229   \n",
       "33922 -3.202137 -2.451999 -0.408832  0.366651 -3.237874  6.180111   \n",
       "33923  2.712125 -1.150801 -0.499245  0.518431 -0.000846 -0.000287   \n",
       "33924 -1.824863 -1.173423 -0.098572  0.625926  0.259899 -0.046108   \n",
       "\n",
       "       ESTADO_SUCURSAL_BAJA CALIFORNIA NORTE  \\\n",
       "0                                        0.0   \n",
       "1                                        0.0   \n",
       "2                                        0.0   \n",
       "3                                        0.0   \n",
       "4                                        0.0   \n",
       "...                                      ...   \n",
       "33920                                    0.0   \n",
       "33921                                    0.0   \n",
       "33922                                    0.0   \n",
       "33923                                    0.0   \n",
       "33924                                    0.0   \n",
       "\n",
       "       ESTADO_SUCURSAL_BAJA CALIFORNIA SUR  ESTADO_SUCURSAL_CAMPECHE  \\\n",
       "0                                      0.0                       0.0   \n",
       "1                                      0.0                       0.0   \n",
       "2                                      0.0                       0.0   \n",
       "3                                      0.0                       0.0   \n",
       "4                                      0.0                       0.0   \n",
       "...                                    ...                       ...   \n",
       "33920                                  0.0                       0.0   \n",
       "33921                                  0.0                       0.0   \n",
       "33922                                  0.0                       1.0   \n",
       "33923                                  0.0                       0.0   \n",
       "33924                                  0.0                       0.0   \n",
       "\n",
       "       ESTADO_SUCURSAL_CHIAPAS  ...  TIPO_PRENDA_reloj  SUCURSAL_0  \\\n",
       "0                          0.0  ...                1.0           0   \n",
       "1                          0.0  ...                1.0           0   \n",
       "2                          0.0  ...                1.0           0   \n",
       "3                          0.0  ...                1.0           0   \n",
       "4                          0.0  ...                1.0           0   \n",
       "...                        ...  ...                ...         ...   \n",
       "33920                      0.0  ...                1.0           0   \n",
       "33921                      0.0  ...                1.0           0   \n",
       "33922                      0.0  ...                0.0           0   \n",
       "33923                      0.0  ...                1.0           0   \n",
       "33924                      0.0  ...                1.0           0   \n",
       "\n",
       "       SUCURSAL_1  SUCURSAL_2  SUCURSAL_3  SUCURSAL_4  SUCURSAL_5  SUCURSAL_6  \\\n",
       "0               0           0           0           0           0           0   \n",
       "1               0           0           0           0           0           0   \n",
       "2               0           0           0           0           0           0   \n",
       "3               0           0           0           0           0           1   \n",
       "4               0           0           0           0           0           0   \n",
       "...           ...         ...         ...         ...         ...         ...   \n",
       "33920           0           0           0           0           1           0   \n",
       "33921           0           0           0           0           1           0   \n",
       "33922           1           1           0           0           1           0   \n",
       "33923           1           1           1           1           0           1   \n",
       "33924           0           0           0           1           1           0   \n",
       "\n",
       "       SUCURSAL_7  SUCURSAL_8  \n",
       "0               0           1  \n",
       "1               1           0  \n",
       "2               1           1  \n",
       "3               0           0  \n",
       "4               0           1  \n",
       "...           ...         ...  \n",
       "33920           0           0  \n",
       "33921           0           0  \n",
       "33922           0           0  \n",
       "33923           1           1  \n",
       "33924           0           0  \n",
       "\n",
       "[33925 rows x 64 columns]"
      ]
     },
     "execution_count": 10,
     "metadata": {},
     "output_type": "execute_result"
    }
   ],
   "source": [
    "X = df.drop(df[['DIAS_ALMONEDA']],axis=1)\n",
    "X"
   ]
  },
  {
   "cell_type": "code",
   "execution_count": 11,
   "metadata": {
    "colab": {
     "base_uri": "https://localhost:8080/",
     "height": 424
    },
    "executionInfo": {
     "elapsed": 5,
     "status": "ok",
     "timestamp": 1747275487426,
     "user": {
      "displayName": "David Nava Jiménez",
      "userId": "10453943596792754694"
     },
     "user_tz": 360
    },
    "id": "Aa5VkHvIlNqV",
    "outputId": "941f9bce-c27f-4534-acbc-4d551dd48447"
   },
   "outputs": [
    {
     "data": {
      "text/plain": [
       "0         941\n",
       "1         862\n",
       "2         787\n",
       "3         783\n",
       "4         767\n",
       "         ... \n",
       "33920       9\n",
       "33921       9\n",
       "33922    2539\n",
       "33923     698\n",
       "33924     361\n",
       "Name: DIAS_ALMONEDA, Length: 33925, dtype: int64"
      ]
     },
     "execution_count": 11,
     "metadata": {},
     "output_type": "execute_result"
    }
   ],
   "source": [
    "y =df['DIAS_ALMONEDA'].copy()\n",
    "y"
   ]
  },
  {
   "cell_type": "markdown",
   "metadata": {
    "id": "HuHmpo0tlYCq"
   },
   "source": [
    "A continuación vamos a realizar una partición 70-15-15 en entrenamiento, validación y prueba respectivamente."
   ]
  },
  {
   "cell_type": "code",
   "execution_count": 12,
   "metadata": {
    "executionInfo": {
     "elapsed": 3700,
     "status": "ok",
     "timestamp": 1747275491127,
     "user": {
      "displayName": "David Nava Jiménez",
      "userId": "10453943596792754694"
     },
     "user_tz": 360
    },
    "id": "Fz-Rx_cGlgdy"
   },
   "outputs": [],
   "source": [
    "Xtrain, xtemp, ytrain, ytemp = train_test_split(X, y, test_size =.30)\n",
    "Xval,Xtest, yval, ytest = train_test_split(xtemp, ytemp, test_size= 0.5)"
   ]
  },
  {
   "cell_type": "code",
   "execution_count": 13,
   "metadata": {
    "colab": {
     "base_uri": "https://localhost:8080/"
    },
    "executionInfo": {
     "elapsed": 10,
     "status": "ok",
     "timestamp": 1747275491138,
     "user": {
      "displayName": "David Nava Jiménez",
      "userId": "10453943596792754694"
     },
     "user_tz": 360
    },
    "id": "FnhafJTMmWlv",
    "outputId": "0898810c-e079-4ba1-d120-f1d61355664b"
   },
   "outputs": [
    {
     "name": "stdout",
     "output_type": "stream",
     "text": [
      "(23747, 64) (23747,)\n",
      "(5089, 64) (5089,)\n",
      "(5089, 64) (5089,)\n"
     ]
    }
   ],
   "source": [
    "print(Xtrain.shape, ytrain.shape)\n",
    "print(Xval.shape, yval.shape)\n",
    "print(Xtest.shape, ytest.shape)"
   ]
  },
  {
   "cell_type": "markdown",
   "metadata": {
    "id": "9amqGdmRp9nA"
   },
   "source": [
    "Comentarios. Como primer propuesta vamos a entrenar y evaluar un modelo de regresión lineal y podremos revisar si sus métricas son adecuadas"
   ]
  },
  {
   "cell_type": "markdown",
   "metadata": {
    "id": "NCvA0gphqScV"
   },
   "source": [
    "Vamos a evaluar el modelo con las métricas,raíz del error cuadrático medio (`RMSE`) y la métrica `R` cuadrado ($R^2$)."
   ]
  },
  {
   "cell_type": "code",
   "execution_count": 14,
   "metadata": {
    "executionInfo": {
     "elapsed": 16852,
     "status": "ok",
     "timestamp": 1747275507991,
     "user": {
      "displayName": "David Nava Jiménez",
      "userId": "10453943596792754694"
     },
     "user_tz": 360
    },
    "id": "mUIz6xtpp80k"
   },
   "outputs": [],
   "source": [
    "lr_model = LinearRegression()\n",
    "lr_model.fit(Xtrain,ytrain)\n",
    "y_prediction = lr_model.predict(Xval)"
   ]
  },
  {
   "cell_type": "code",
   "execution_count": 15,
   "metadata": {
    "colab": {
     "base_uri": "https://localhost:8080/"
    },
    "executionInfo": {
     "elapsed": 9,
     "status": "ok",
     "timestamp": 1747275507992,
     "user": {
      "displayName": "David Nava Jiménez",
      "userId": "10453943596792754694"
     },
     "user_tz": 360
    },
    "id": "GZKSGtYOq7pW",
    "outputId": "4fcc4a84-8d6b-438b-8b92-7241439b98e2"
   },
   "outputs": [
    {
     "name": "stdout",
     "output_type": "stream",
     "text": [
      "MSE: 37775.9678\n",
      "RMSE: 194.3604\n",
      "R2: 0.2641\n"
     ]
    }
   ],
   "source": [
    "mse = mean_squared_error(yval,y_prediction)\n",
    "rmse = np.sqrt(mse)\n",
    "r2 = r2_score(yval,y_prediction)\n",
    "print(f'MSE: {mse:.4f}')\n",
    "print(f'RMSE: {rmse:.4f}')\n",
    "print(f'R2: {r2:.4f}')"
   ]
  },
  {
   "cell_type": "markdown",
   "metadata": {},
   "source": [
    "Vamos a utilizar validación-cruzada, por lo que vamos a concatenar los conjuntos de entrenamiento y validación para utilizarlo como entrenamiento"
   ]
  },
  {
   "cell_type": "code",
   "execution_count": 16,
   "metadata": {},
   "outputs": [],
   "source": [
    "Xtrainval = pd.concat([Xtrain,Xval],axis =0)\n",
    "ytrainval = pd.concat([ytrain,yval],axis=0)"
   ]
  },
  {
   "cell_type": "code",
   "execution_count": 17,
   "metadata": {},
   "outputs": [
    {
     "name": "stdout",
     "output_type": "stream",
     "text": [
      "(28836, 64) (28836,)\n"
     ]
    }
   ],
   "source": [
    "print(Xtrainval.shape, ytrainval.shape)"
   ]
  },
  {
   "cell_type": "markdown",
   "metadata": {},
   "source": [
    "Posterior a esto, vamos a proponer una función llamada \"mis modelos\" incluyendo los modelos que vamos a comparar y vamos a ajustar los parámetros para buscar el mejor modelo"
   ]
  },
  {
   "cell_type": "code",
   "execution_count": 23,
   "metadata": {},
   "outputs": [
    {
     "name": "stdout",
     "output_type": "stream",
     "text": [
      ">> ElasticNet\n",
      "\tTrain R2: 0.197 ± 0.002\n",
      "\tVal   R2: 0.196 ± 0.013\n",
      "\tTrain RMSE: 191.598 ± 1.016\n",
      "\tVal RMSE: 191.470 ± 9.776\n",
      ">> Dtree\n",
      "\tTrain R2: 0.735 ± 0.024\n",
      "\tVal   R2: 0.359 ± 0.064\n",
      "\tTrain RMSE: 109.903 ± 5.251\n",
      "\tVal RMSE: 170.619 ± 12.554\n",
      ">> RandomF\n",
      "\tTrain R2: 0.271 ± 0.003\n",
      "\tVal   R2: 0.264 ± 0.014\n",
      "\tTrain RMSE: 182.573 ± 0.640\n",
      "\tVal RMSE: 183.241 ± 6.603\n"
     ]
    },
    {
     "name": "stderr",
     "output_type": "stream",
     "text": [
      "c:\\Users\\HP\\AppData\\Local\\Programs\\Python\\Python312\\Lib\\site-packages\\xgboost\\training.py:183: UserWarning: [17:55:50] WARNING: C:\\actions-runner\\_work\\xgboost\\xgboost\\src\\learner.cc:738: \n",
      "Parameters: { \"max_depth\", \"subsample\" } are not used.\n",
      "\n",
      "  bst.update(dtrain, iteration=i, fobj=obj)\n",
      "c:\\Users\\HP\\AppData\\Local\\Programs\\Python\\Python312\\Lib\\site-packages\\xgboost\\training.py:183: UserWarning: [17:55:51] WARNING: C:\\actions-runner\\_work\\xgboost\\xgboost\\src\\learner.cc:738: \n",
      "Parameters: { \"max_depth\", \"subsample\" } are not used.\n",
      "\n",
      "  bst.update(dtrain, iteration=i, fobj=obj)\n",
      "c:\\Users\\HP\\AppData\\Local\\Programs\\Python\\Python312\\Lib\\site-packages\\xgboost\\training.py:183: UserWarning: [17:55:53] WARNING: C:\\actions-runner\\_work\\xgboost\\xgboost\\src\\learner.cc:738: \n",
      "Parameters: { \"max_depth\", \"subsample\" } are not used.\n",
      "\n",
      "  bst.update(dtrain, iteration=i, fobj=obj)\n",
      "c:\\Users\\HP\\AppData\\Local\\Programs\\Python\\Python312\\Lib\\site-packages\\xgboost\\training.py:183: UserWarning: [17:55:54] WARNING: C:\\actions-runner\\_work\\xgboost\\xgboost\\src\\learner.cc:738: \n",
      "Parameters: { \"max_depth\", \"subsample\" } are not used.\n",
      "\n",
      "  bst.update(dtrain, iteration=i, fobj=obj)\n",
      "c:\\Users\\HP\\AppData\\Local\\Programs\\Python\\Python312\\Lib\\site-packages\\xgboost\\training.py:183: UserWarning: [17:55:55] WARNING: C:\\actions-runner\\_work\\xgboost\\xgboost\\src\\learner.cc:738: \n",
      "Parameters: { \"max_depth\", \"subsample\" } are not used.\n",
      "\n",
      "  bst.update(dtrain, iteration=i, fobj=obj)\n",
      "c:\\Users\\HP\\AppData\\Local\\Programs\\Python\\Python312\\Lib\\site-packages\\xgboost\\training.py:183: UserWarning: [17:55:56] WARNING: C:\\actions-runner\\_work\\xgboost\\xgboost\\src\\learner.cc:738: \n",
      "Parameters: { \"max_depth\", \"subsample\" } are not used.\n",
      "\n",
      "  bst.update(dtrain, iteration=i, fobj=obj)\n",
      "c:\\Users\\HP\\AppData\\Local\\Programs\\Python\\Python312\\Lib\\site-packages\\xgboost\\training.py:183: UserWarning: [17:55:57] WARNING: C:\\actions-runner\\_work\\xgboost\\xgboost\\src\\learner.cc:738: \n",
      "Parameters: { \"max_depth\", \"subsample\" } are not used.\n",
      "\n",
      "  bst.update(dtrain, iteration=i, fobj=obj)\n",
      "c:\\Users\\HP\\AppData\\Local\\Programs\\Python\\Python312\\Lib\\site-packages\\xgboost\\training.py:183: UserWarning: [17:55:58] WARNING: C:\\actions-runner\\_work\\xgboost\\xgboost\\src\\learner.cc:738: \n",
      "Parameters: { \"max_depth\", \"subsample\" } are not used.\n",
      "\n",
      "  bst.update(dtrain, iteration=i, fobj=obj)\n",
      "c:\\Users\\HP\\AppData\\Local\\Programs\\Python\\Python312\\Lib\\site-packages\\xgboost\\training.py:183: UserWarning: [17:55:59] WARNING: C:\\actions-runner\\_work\\xgboost\\xgboost\\src\\learner.cc:738: \n",
      "Parameters: { \"max_depth\", \"subsample\" } are not used.\n",
      "\n",
      "  bst.update(dtrain, iteration=i, fobj=obj)\n",
      "c:\\Users\\HP\\AppData\\Local\\Programs\\Python\\Python312\\Lib\\site-packages\\xgboost\\training.py:183: UserWarning: [17:56:00] WARNING: C:\\actions-runner\\_work\\xgboost\\xgboost\\src\\learner.cc:738: \n",
      "Parameters: { \"max_depth\", \"subsample\" } are not used.\n",
      "\n",
      "  bst.update(dtrain, iteration=i, fobj=obj)\n",
      "c:\\Users\\HP\\AppData\\Local\\Programs\\Python\\Python312\\Lib\\site-packages\\xgboost\\training.py:183: UserWarning: [17:56:01] WARNING: C:\\actions-runner\\_work\\xgboost\\xgboost\\src\\learner.cc:738: \n",
      "Parameters: { \"max_depth\", \"subsample\" } are not used.\n",
      "\n",
      "  bst.update(dtrain, iteration=i, fobj=obj)\n",
      "c:\\Users\\HP\\AppData\\Local\\Programs\\Python\\Python312\\Lib\\site-packages\\xgboost\\training.py:183: UserWarning: [17:56:02] WARNING: C:\\actions-runner\\_work\\xgboost\\xgboost\\src\\learner.cc:738: \n",
      "Parameters: { \"max_depth\", \"subsample\" } are not used.\n",
      "\n",
      "  bst.update(dtrain, iteration=i, fobj=obj)\n",
      "c:\\Users\\HP\\AppData\\Local\\Programs\\Python\\Python312\\Lib\\site-packages\\xgboost\\training.py:183: UserWarning: [17:56:03] WARNING: C:\\actions-runner\\_work\\xgboost\\xgboost\\src\\learner.cc:738: \n",
      "Parameters: { \"max_depth\", \"subsample\" } are not used.\n",
      "\n",
      "  bst.update(dtrain, iteration=i, fobj=obj)\n",
      "c:\\Users\\HP\\AppData\\Local\\Programs\\Python\\Python312\\Lib\\site-packages\\xgboost\\training.py:183: UserWarning: [17:56:04] WARNING: C:\\actions-runner\\_work\\xgboost\\xgboost\\src\\learner.cc:738: \n",
      "Parameters: { \"max_depth\", \"subsample\" } are not used.\n",
      "\n",
      "  bst.update(dtrain, iteration=i, fobj=obj)\n",
      "c:\\Users\\HP\\AppData\\Local\\Programs\\Python\\Python312\\Lib\\site-packages\\xgboost\\training.py:183: UserWarning: [17:56:05] WARNING: C:\\actions-runner\\_work\\xgboost\\xgboost\\src\\learner.cc:738: \n",
      "Parameters: { \"max_depth\", \"subsample\" } are not used.\n",
      "\n",
      "  bst.update(dtrain, iteration=i, fobj=obj)\n",
      "c:\\Users\\HP\\AppData\\Local\\Programs\\Python\\Python312\\Lib\\site-packages\\xgboost\\training.py:183: UserWarning: [17:56:07] WARNING: C:\\actions-runner\\_work\\xgboost\\xgboost\\src\\learner.cc:738: \n",
      "Parameters: { \"max_depth\", \"subsample\" } are not used.\n",
      "\n",
      "  bst.update(dtrain, iteration=i, fobj=obj)\n",
      "c:\\Users\\HP\\AppData\\Local\\Programs\\Python\\Python312\\Lib\\site-packages\\xgboost\\training.py:183: UserWarning: [17:56:08] WARNING: C:\\actions-runner\\_work\\xgboost\\xgboost\\src\\learner.cc:738: \n",
      "Parameters: { \"max_depth\", \"subsample\" } are not used.\n",
      "\n",
      "  bst.update(dtrain, iteration=i, fobj=obj)\n",
      "c:\\Users\\HP\\AppData\\Local\\Programs\\Python\\Python312\\Lib\\site-packages\\xgboost\\training.py:183: UserWarning: [17:56:09] WARNING: C:\\actions-runner\\_work\\xgboost\\xgboost\\src\\learner.cc:738: \n",
      "Parameters: { \"max_depth\", \"subsample\" } are not used.\n",
      "\n",
      "  bst.update(dtrain, iteration=i, fobj=obj)\n",
      "c:\\Users\\HP\\AppData\\Local\\Programs\\Python\\Python312\\Lib\\site-packages\\xgboost\\training.py:183: UserWarning: [17:56:10] WARNING: C:\\actions-runner\\_work\\xgboost\\xgboost\\src\\learner.cc:738: \n",
      "Parameters: { \"max_depth\", \"subsample\" } are not used.\n",
      "\n",
      "  bst.update(dtrain, iteration=i, fobj=obj)\n",
      "c:\\Users\\HP\\AppData\\Local\\Programs\\Python\\Python312\\Lib\\site-packages\\xgboost\\training.py:183: UserWarning: [17:56:11] WARNING: C:\\actions-runner\\_work\\xgboost\\xgboost\\src\\learner.cc:738: \n",
      "Parameters: { \"max_depth\", \"subsample\" } are not used.\n",
      "\n",
      "  bst.update(dtrain, iteration=i, fobj=obj)\n"
     ]
    },
    {
     "name": "stdout",
     "output_type": "stream",
     "text": [
      ">> XGBoost\n",
      "\tTrain R2: 0.248 ± 0.002\n",
      "\tVal   R2: 0.243 ± 0.021\n",
      "\tTrain RMSE: 185.351 ± 0.870\n",
      "\tVal RMSE: 185.798 ± 7.858\n"
     ]
    },
    {
     "name": "stderr",
     "output_type": "stream",
     "text": [
      "c:\\Users\\HP\\AppData\\Local\\Programs\\Python\\Python312\\Lib\\site-packages\\sklearn\\neural_network\\_multilayer_perceptron.py:691: ConvergenceWarning: Stochastic Optimizer: Maximum iterations (15) reached and the optimization hasn't converged yet.\n",
      "  warnings.warn(\n",
      "c:\\Users\\HP\\AppData\\Local\\Programs\\Python\\Python312\\Lib\\site-packages\\sklearn\\neural_network\\_multilayer_perceptron.py:691: ConvergenceWarning: Stochastic Optimizer: Maximum iterations (15) reached and the optimization hasn't converged yet.\n",
      "  warnings.warn(\n",
      "c:\\Users\\HP\\AppData\\Local\\Programs\\Python\\Python312\\Lib\\site-packages\\sklearn\\neural_network\\_multilayer_perceptron.py:691: ConvergenceWarning: Stochastic Optimizer: Maximum iterations (15) reached and the optimization hasn't converged yet.\n",
      "  warnings.warn(\n",
      "c:\\Users\\HP\\AppData\\Local\\Programs\\Python\\Python312\\Lib\\site-packages\\sklearn\\neural_network\\_multilayer_perceptron.py:691: ConvergenceWarning: Stochastic Optimizer: Maximum iterations (15) reached and the optimization hasn't converged yet.\n",
      "  warnings.warn(\n",
      "c:\\Users\\HP\\AppData\\Local\\Programs\\Python\\Python312\\Lib\\site-packages\\sklearn\\neural_network\\_multilayer_perceptron.py:691: ConvergenceWarning: Stochastic Optimizer: Maximum iterations (15) reached and the optimization hasn't converged yet.\n",
      "  warnings.warn(\n",
      "c:\\Users\\HP\\AppData\\Local\\Programs\\Python\\Python312\\Lib\\site-packages\\sklearn\\neural_network\\_multilayer_perceptron.py:691: ConvergenceWarning: Stochastic Optimizer: Maximum iterations (15) reached and the optimization hasn't converged yet.\n",
      "  warnings.warn(\n",
      "c:\\Users\\HP\\AppData\\Local\\Programs\\Python\\Python312\\Lib\\site-packages\\sklearn\\neural_network\\_multilayer_perceptron.py:691: ConvergenceWarning: Stochastic Optimizer: Maximum iterations (15) reached and the optimization hasn't converged yet.\n",
      "  warnings.warn(\n",
      "c:\\Users\\HP\\AppData\\Local\\Programs\\Python\\Python312\\Lib\\site-packages\\sklearn\\neural_network\\_multilayer_perceptron.py:691: ConvergenceWarning: Stochastic Optimizer: Maximum iterations (15) reached and the optimization hasn't converged yet.\n",
      "  warnings.warn(\n",
      "c:\\Users\\HP\\AppData\\Local\\Programs\\Python\\Python312\\Lib\\site-packages\\sklearn\\neural_network\\_multilayer_perceptron.py:691: ConvergenceWarning: Stochastic Optimizer: Maximum iterations (15) reached and the optimization hasn't converged yet.\n",
      "  warnings.warn(\n",
      "c:\\Users\\HP\\AppData\\Local\\Programs\\Python\\Python312\\Lib\\site-packages\\sklearn\\neural_network\\_multilayer_perceptron.py:691: ConvergenceWarning: Stochastic Optimizer: Maximum iterations (15) reached and the optimization hasn't converged yet.\n",
      "  warnings.warn(\n",
      "c:\\Users\\HP\\AppData\\Local\\Programs\\Python\\Python312\\Lib\\site-packages\\sklearn\\neural_network\\_multilayer_perceptron.py:691: ConvergenceWarning: Stochastic Optimizer: Maximum iterations (15) reached and the optimization hasn't converged yet.\n",
      "  warnings.warn(\n",
      "c:\\Users\\HP\\AppData\\Local\\Programs\\Python\\Python312\\Lib\\site-packages\\sklearn\\neural_network\\_multilayer_perceptron.py:691: ConvergenceWarning: Stochastic Optimizer: Maximum iterations (15) reached and the optimization hasn't converged yet.\n",
      "  warnings.warn(\n",
      "c:\\Users\\HP\\AppData\\Local\\Programs\\Python\\Python312\\Lib\\site-packages\\sklearn\\neural_network\\_multilayer_perceptron.py:691: ConvergenceWarning: Stochastic Optimizer: Maximum iterations (15) reached and the optimization hasn't converged yet.\n",
      "  warnings.warn(\n",
      "c:\\Users\\HP\\AppData\\Local\\Programs\\Python\\Python312\\Lib\\site-packages\\sklearn\\neural_network\\_multilayer_perceptron.py:691: ConvergenceWarning: Stochastic Optimizer: Maximum iterations (15) reached and the optimization hasn't converged yet.\n",
      "  warnings.warn(\n",
      "c:\\Users\\HP\\AppData\\Local\\Programs\\Python\\Python312\\Lib\\site-packages\\sklearn\\neural_network\\_multilayer_perceptron.py:691: ConvergenceWarning: Stochastic Optimizer: Maximum iterations (15) reached and the optimization hasn't converged yet.\n",
      "  warnings.warn(\n",
      "c:\\Users\\HP\\AppData\\Local\\Programs\\Python\\Python312\\Lib\\site-packages\\sklearn\\neural_network\\_multilayer_perceptron.py:691: ConvergenceWarning: Stochastic Optimizer: Maximum iterations (15) reached and the optimization hasn't converged yet.\n",
      "  warnings.warn(\n",
      "c:\\Users\\HP\\AppData\\Local\\Programs\\Python\\Python312\\Lib\\site-packages\\sklearn\\neural_network\\_multilayer_perceptron.py:691: ConvergenceWarning: Stochastic Optimizer: Maximum iterations (15) reached and the optimization hasn't converged yet.\n",
      "  warnings.warn(\n",
      "c:\\Users\\HP\\AppData\\Local\\Programs\\Python\\Python312\\Lib\\site-packages\\sklearn\\neural_network\\_multilayer_perceptron.py:691: ConvergenceWarning: Stochastic Optimizer: Maximum iterations (15) reached and the optimization hasn't converged yet.\n",
      "  warnings.warn(\n",
      "c:\\Users\\HP\\AppData\\Local\\Programs\\Python\\Python312\\Lib\\site-packages\\sklearn\\neural_network\\_multilayer_perceptron.py:691: ConvergenceWarning: Stochastic Optimizer: Maximum iterations (15) reached and the optimization hasn't converged yet.\n",
      "  warnings.warn(\n"
     ]
    },
    {
     "name": "stdout",
     "output_type": "stream",
     "text": [
      ">> MLP\n",
      "\tTrain R2: 0.248 ± 0.009\n",
      "\tVal   R2: 0.245 ± 0.014\n",
      "\tTrain RMSE: 185.446 ± 1.529\n",
      "\tVal RMSE: 185.473 ± 10.600\n"
     ]
    },
    {
     "name": "stderr",
     "output_type": "stream",
     "text": [
      "c:\\Users\\HP\\AppData\\Local\\Programs\\Python\\Python312\\Lib\\site-packages\\sklearn\\neural_network\\_multilayer_perceptron.py:691: ConvergenceWarning: Stochastic Optimizer: Maximum iterations (15) reached and the optimization hasn't converged yet.\n",
      "  warnings.warn(\n"
     ]
    }
   ],
   "source": [
    "def mis_modelos():\n",
    "    modelos, nombres = list(), list()\n",
    "\n",
    "    #ElasticNet\n",
    "    modelos.append(ElasticNet(alpha=0.7, l1_ratio=0.5, tol=0.01,max_iter=1500,selection='random'))\n",
    "    nombres.append('ElasticNet')\n",
    "\n",
    "    #Árbol de Decisiones\n",
    "    modelos.append(DecisionTreeRegressor(max_depth=15,max_features=15, min_samples_split=3))\n",
    "    nombres.append('Dtree')\n",
    "\n",
    "    #Random Forest\n",
    "    modelos.append(RandomForestRegressor(n_estimators=700, max_features=25, max_depth=60,min_samples_split=0.5,max_samples=1.0,ccp_alpha=0.05))\n",
    "    nombres.append('RandomF')\n",
    "\n",
    "    #XGBoosting\n",
    "    modelos.append(XGBRegressor(booster='gblinear',n_estimators=100, max_depth=60,learning_rate=0.2,subsample=1.0,objective= 'reg:squarederror'))\n",
    "    nombres.append('XGBoost')\n",
    "\n",
    "    #Red neuronal de Perceptrón Muliticapa:\n",
    "    modelos.append(MLPRegressor(hidden_layer_sizes=(40,),activation='relu',max_iter=15,alpha=0.1,learning_rate='constant'))\n",
    "    nombres.append('MLP')\n",
    "    \n",
    "    #Máquina de Vectores de Soporte:\n",
    "    #modelos.append(SVR(kernel='rbf',C=1.0,gamma='scale',epsilon=0.1))#random_state=27))\n",
    "    #nombres.append('SVM')\n",
    "\n",
    "    return modelos, nombres\n",
    "\n",
    "#Posteriormente vamos a entrenar cada uno de los modelos y vamos a desplegar las métricas de Train y val\n",
    "\n",
    "modelos, nombres = mis_modelos()\n",
    "resultados =list()\n",
    "\n",
    "micv = RepeatedKFold(n_splits=10,n_repeats=2)\n",
    "\n",
    "for modelo, nombre in zip(modelos,nombres):\n",
    "    pipeline = Pipeline(steps=[('m',modelo)])\n",
    "\n",
    "\n",
    "    #Se lleva a cabo el entrenamiento\n",
    "    scores = cross_validate(pipeline,\n",
    "                            Xtrainval,\n",
    "                            ytrainval,\n",
    "                            scoring={'r2':'r2', 'rmse': 'neg_root_mean_squared_error'},\n",
    "                            cv=micv,\n",
    "                            return_train_score=True,\n",
    "                            n_jobs=1)\n",
    "    #Se guarda el resultado de cada modelo\n",
    "    resultados.append(scores)\n",
    "\n",
    "    #Desplegamos los valores de las métricas para verificar si no hay subentrenamiento o sobreentrenamiento\n",
    "    print(f\">> {nombre}\")\n",
    "    print(f\"\\tTrain R2: {np.mean(scores['train_r2']):.3f} ± {np.std(scores['train_r2']):.3f}\")\n",
    "    print(f\"\\tVal   R2: {np.mean(scores['test_r2']):.3f} ± {np.std(scores['test_r2']):.3f}\")\n",
    "    print(f\"\\tTrain RMSE: {-np.mean(scores['train_rmse']):.3f} ± {np.std(scores['train_rmse']):.3f}\")\n",
    "    print(f\"\\tVal RMSE: {-np.mean(scores['test_rmse']):.3f} ± {np.std(scores['test_rmse']):.3f}\")\n"
   ]
  },
  {
   "cell_type": "markdown",
   "metadata": {
    "id": "yc3tf_flreI_"
   },
   "source": [
    "Podemos observar que la regresión lineal obtuvo una R^2 muy baja, de aproximadamente .26, muy por debajo de 1.  Con el modelo de Random Forest una R^2 de 0.29."
   ]
  },
  {
   "cell_type": "markdown",
   "metadata": {},
   "source": [
    "Posterior al Randomized Search que se realizó y el que tardó 2,288 minutos se obtuvieron los mejores parámetros. El ejercicio se realizó con los modelos XGboost, Random Forest y Decision Trees"
   ]
  },
  {
   "cell_type": "markdown",
   "metadata": {},
   "source": [
    "XGBoost"
   ]
  },
  {
   "cell_type": "code",
   "execution_count": 21,
   "metadata": {},
   "outputs": [
    {
     "name": "stderr",
     "output_type": "stream",
     "text": [
      "<>:27: SyntaxWarning: invalid escape sequence '\\ '\n",
      "<>:27: SyntaxWarning: invalid escape sequence '\\ '\n",
      "C:\\Users\\HP\\AppData\\Local\\Temp\\ipykernel_5008\\1181478867.py:27: SyntaxWarning: invalid escape sequence '\\ '\n",
      "  print(\"\\ Mejor modelo ajustado:\")\n"
     ]
    },
    {
     "name": "stdout",
     "output_type": "stream",
     "text": [
      " Resultados\n",
      "Fitting 3 folds for each of 5 candidates, totalling 15 fits\n"
     ]
    },
    {
     "name": "stderr",
     "output_type": "stream",
     "text": [
      "c:\\Users\\HP\\AppData\\Local\\Programs\\Python\\Python312\\Lib\\site-packages\\xgboost\\training.py:183: UserWarning: [17:37:55] WARNING: C:\\actions-runner\\_work\\xgboost\\xgboost\\src\\learner.cc:738: \n",
      "Parameters: { \"max_depth\", \"subsample\" } are not used.\n",
      "\n",
      "  bst.update(dtrain, iteration=i, fobj=obj)\n",
      "c:\\Users\\HP\\AppData\\Local\\Programs\\Python\\Python312\\Lib\\site-packages\\xgboost\\training.py:183: UserWarning: [17:37:56] WARNING: C:\\actions-runner\\_work\\xgboost\\xgboost\\src\\learner.cc:738: \n",
      "Parameters: { \"max_depth\", \"subsample\" } are not used.\n",
      "\n",
      "  bst.update(dtrain, iteration=i, fobj=obj)\n",
      "c:\\Users\\HP\\AppData\\Local\\Programs\\Python\\Python312\\Lib\\site-packages\\xgboost\\training.py:183: UserWarning: [17:37:56] WARNING: C:\\actions-runner\\_work\\xgboost\\xgboost\\src\\learner.cc:738: \n",
      "Parameters: { \"max_depth\", \"subsample\" } are not used.\n",
      "\n",
      "  bst.update(dtrain, iteration=i, fobj=obj)\n",
      "c:\\Users\\HP\\AppData\\Local\\Programs\\Python\\Python312\\Lib\\site-packages\\xgboost\\training.py:183: UserWarning: [17:37:56] WARNING: C:\\actions-runner\\_work\\xgboost\\xgboost\\src\\learner.cc:738: \n",
      "Parameters: { \"max_depth\", \"subsample\" } are not used.\n",
      "\n",
      "  bst.update(dtrain, iteration=i, fobj=obj)\n",
      "c:\\Users\\HP\\AppData\\Local\\Programs\\Python\\Python312\\Lib\\site-packages\\xgboost\\training.py:183: UserWarning: [17:37:56] WARNING: C:\\actions-runner\\_work\\xgboost\\xgboost\\src\\learner.cc:738: \n",
      "Parameters: { \"max_depth\", \"subsample\" } are not used.\n",
      "\n",
      "  bst.update(dtrain, iteration=i, fobj=obj)\n",
      "c:\\Users\\HP\\AppData\\Local\\Programs\\Python\\Python312\\Lib\\site-packages\\xgboost\\training.py:183: UserWarning: [17:37:57] WARNING: C:\\actions-runner\\_work\\xgboost\\xgboost\\src\\learner.cc:738: \n",
      "Parameters: { \"max_depth\", \"subsample\" } are not used.\n",
      "\n",
      "  bst.update(dtrain, iteration=i, fobj=obj)\n",
      "c:\\Users\\HP\\AppData\\Local\\Programs\\Python\\Python312\\Lib\\site-packages\\xgboost\\training.py:183: UserWarning: [17:37:57] WARNING: C:\\actions-runner\\_work\\xgboost\\xgboost\\src\\learner.cc:738: \n",
      "Parameters: { \"max_depth\", \"subsample\" } are not used.\n",
      "\n",
      "  bst.update(dtrain, iteration=i, fobj=obj)\n",
      "c:\\Users\\HP\\AppData\\Local\\Programs\\Python\\Python312\\Lib\\site-packages\\xgboost\\training.py:183: UserWarning: [17:37:58] WARNING: C:\\actions-runner\\_work\\xgboost\\xgboost\\src\\learner.cc:738: \n",
      "Parameters: { \"max_depth\", \"subsample\" } are not used.\n",
      "\n",
      "  bst.update(dtrain, iteration=i, fobj=obj)\n",
      "c:\\Users\\HP\\AppData\\Local\\Programs\\Python\\Python312\\Lib\\site-packages\\xgboost\\training.py:183: UserWarning: [17:37:59] WARNING: C:\\actions-runner\\_work\\xgboost\\xgboost\\src\\learner.cc:738: \n",
      "Parameters: { \"max_depth\", \"subsample\" } are not used.\n",
      "\n",
      "  bst.update(dtrain, iteration=i, fobj=obj)\n",
      "c:\\Users\\HP\\AppData\\Local\\Programs\\Python\\Python312\\Lib\\site-packages\\xgboost\\training.py:183: UserWarning: [17:38:04] WARNING: C:\\actions-runner\\_work\\xgboost\\xgboost\\src\\learner.cc:738: \n",
      "Parameters: { \"max_depth\", \"subsample\" } are not used.\n",
      "\n",
      "  bst.update(dtrain, iteration=i, fobj=obj)\n",
      "c:\\Users\\HP\\AppData\\Local\\Programs\\Python\\Python312\\Lib\\site-packages\\xgboost\\training.py:183: UserWarning: [17:38:04] WARNING: C:\\actions-runner\\_work\\xgboost\\xgboost\\src\\learner.cc:738: \n",
      "Parameters: { \"max_depth\", \"subsample\" } are not used.\n",
      "\n",
      "  bst.update(dtrain, iteration=i, fobj=obj)\n",
      "c:\\Users\\HP\\AppData\\Local\\Programs\\Python\\Python312\\Lib\\site-packages\\xgboost\\training.py:183: UserWarning: [17:38:04] WARNING: C:\\actions-runner\\_work\\xgboost\\xgboost\\src\\learner.cc:738: \n",
      "Parameters: { \"max_depth\", \"subsample\" } are not used.\n",
      "\n",
      "  bst.update(dtrain, iteration=i, fobj=obj)\n",
      "c:\\Users\\HP\\AppData\\Local\\Programs\\Python\\Python312\\Lib\\site-packages\\xgboost\\training.py:183: UserWarning: [17:38:05] WARNING: C:\\actions-runner\\_work\\xgboost\\xgboost\\src\\learner.cc:738: \n",
      "Parameters: { \"max_depth\", \"subsample\" } are not used.\n",
      "\n",
      "  bst.update(dtrain, iteration=i, fobj=obj)\n"
     ]
    },
    {
     "name": "stdout",
     "output_type": "stream",
     "text": [
      "\\ Mejor modelo ajustado:\n",
      "R2 validación cruzada: -33779.0898\n",
      "Mejores hiperparámetros:\n",
      "{'subsample': 1.0, 'n_estimators': 100, 'max_depth': 60, 'learning_rate': 0.2, 'booster': 'gblinear'}\n"
     ]
    }
   ],
   "source": [
    "param_dist_final_tune_xgboost = {\n",
    "    'n_estimators': [10,20,30,100],\n",
    "    'max_depth':[10,20,30,40,50,60],\n",
    "    'learning_rate': [0.001,0.01,0.1,0.05,0.2,1.0],\n",
    "    'subsample':[0.1,0.5,1.0,1.5,2.0],\n",
    "    'booster':['gbtree','gblinear','dart']\n",
    "}\n",
    "xgb_tuned = XGBRegressor(objective='reg:squarederror',random_state=27)\n",
    "\n",
    "cv = RepeatedKFold(n_splits=3,n_repeats=1,random_state=27)\n",
    "\n",
    "random_search_final = RandomizedSearchCV(\n",
    "    estimator=xgb_tuned,\n",
    "    param_distributions=param_dist_final_tune_xgboost,\n",
    "    n_iter=5,\n",
    "    scoring='neg_mean_squared_error',\n",
    "    cv=cv,\n",
    "    verbose=1,\n",
    "    n_jobs=1,\n",
    "    random_state=27\n",
    ")\n",
    "\n",
    "print(\" Resultados\")\n",
    "random_search_final.fit(Xtrain, ytrain)\n",
    "\n",
    "                                                                                                    # Resultados\n",
    "print(\"\\ Mejor modelo ajustado:\")\n",
    "print(f\"R2 validación cruzada: {random_search_final.best_score_:.4f}\")\n",
    "print(\"Mejores hiperparámetros:\")\n",
    "print(random_search_final.best_params_)"
   ]
  },
  {
   "cell_type": "markdown",
   "metadata": {},
   "source": [
    "Random Forest"
   ]
  },
  {
   "cell_type": "code",
   "execution_count": 22,
   "metadata": {},
   "outputs": [
    {
     "name": "stderr",
     "output_type": "stream",
     "text": [
      "<>:26: SyntaxWarning: invalid escape sequence '\\ '\n",
      "<>:26: SyntaxWarning: invalid escape sequence '\\ '\n",
      "C:\\Users\\HP\\AppData\\Local\\Temp\\ipykernel_5008\\4289566782.py:26: SyntaxWarning: invalid escape sequence '\\ '\n",
      "  print(\"\\ Mejor modelo ajustado:\")\n"
     ]
    },
    {
     "name": "stdout",
     "output_type": "stream",
     "text": [
      "Resultados\n",
      "Fitting 6 folds for each of 5 candidates, totalling 30 fits\n",
      "\\ Mejor modelo ajustado:\n",
      "R2 validación cruzada: -32986.6011\n",
      "Mejores hiperparámetros:\n",
      "{'n_estimators': 700, 'min_samples_split': 0.5, 'max_samples': 1.0, 'max_features': 25, 'max_depth': 60, 'ccp_alpha': 0.05}\n"
     ]
    }
   ],
   "source": [
    "param_dist_final_tune_RF = {\n",
    "    'n_estimators': [10,20,30,100,200,300,400,700],\n",
    "    'max_depth':[10,12,20,30,40,50,60],\n",
    "    'min_samples_split':[0.1,0.5,1.0],\n",
    "    'ccp_alpha': [0.001,0.1,0.05,.2,1.0],\n",
    "    'max_samples':[0.1,0.5,1.0,0.2],\n",
    "    'max_features':[10,14,20,25,30],\n",
    "}\n",
    "rf_tuned = RandomForestRegressor(criterion='squared_error',random_state=27)\n",
    "\n",
    "cv = RepeatedKFold(n_splits=3,n_repeats=2,random_state=27)\n",
    "\n",
    "random_search_final = RandomizedSearchCV(\n",
    "    estimator=rf_tuned,\n",
    "    param_distributions=param_dist_final_tune_RF,\n",
    "    n_iter=5,\n",
    "    scoring='neg_mean_squared_error',\n",
    "    cv=cv,\n",
    "    verbose=1,\n",
    "    n_jobs=1\n",
    ")\n",
    "print(\"Resultados\")\n",
    "random_search_final.fit(Xtrain, ytrain)\n",
    "\n",
    "                                                                                                    # Resultados\n",
    "print(\"\\ Mejor modelo ajustado:\")\n",
    "print(f\"R2 validación cruzada: {random_search_final.best_score_:.4f}\")\n",
    "print(\"Mejores hiperparámetros:\")\n",
    "print(random_search_final.best_params_)"
   ]
  },
  {
   "cell_type": "markdown",
   "metadata": {},
   "source": [
    "Decision Trees"
   ]
  },
  {
   "cell_type": "code",
   "execution_count": 29,
   "metadata": {},
   "outputs": [
    {
     "name": "stderr",
     "output_type": "stream",
     "text": [
      "<>:26: SyntaxWarning: invalid escape sequence '\\ '\n",
      "<>:26: SyntaxWarning: invalid escape sequence '\\ '\n",
      "C:\\Users\\HP\\AppData\\Local\\Temp\\ipykernel_5008\\2649216663.py:26: SyntaxWarning: invalid escape sequence '\\ '\n",
      "  print(\"\\ Mejor modelo ajustado:\")\n"
     ]
    },
    {
     "name": "stdout",
     "output_type": "stream",
     "text": [
      "Resultados\n",
      "Fitting 9 folds for each of 5 candidates, totalling 45 fits\n",
      "\\ Mejor modelo ajustado:\n",
      "R2 validación cruzada: 0.0755\n",
      "Mejores hiperparámetros:\n",
      "{'min_samples_split': 1.0, 'max_leaf_nodes': 4, 'max_features': 10, 'max_depth': 20, 'criterion': 'squared_error', 'ccp_alpha': 0.4}\n"
     ]
    }
   ],
   "source": [
    "param_dist_final_tune_DT = {\n",
    "    'max_depth':[10,12,20,30,40,50,60],\n",
    "    'min_samples_split':[0.1,0.5,1.0],\n",
    "    'max_leaf_nodes': [1,2,3,4],\n",
    "    'ccp_alpha': [0.01,0.001,0.1,0.5,0.4],\n",
    "    'max_features':[5,10,15,17],\n",
    "    'criterion': ['squared_error','poisson','absolute_error']\n",
    "}\n",
    "rf_tuned = DecisionTreeRegressor()\n",
    "\n",
    "cv = RepeatedKFold(n_splits=3,n_repeats=3)\n",
    "\n",
    "random_search_final = RandomizedSearchCV(\n",
    "    estimator=rf_tuned,\n",
    "    param_distributions=param_dist_final_tune_DT,\n",
    "    n_iter=5,\n",
    "    scoring='r2',\n",
    "    cv=cv,\n",
    "    verbose=1,\n",
    "    n_jobs=1\n",
    ")\n",
    "print(\"Resultados\")\n",
    "random_search_final.fit(Xtrain, ytrain)\n",
    "\n",
    "                                                                                                    # Resultados\n",
    "print(\"\\ Mejor modelo ajustado:\")\n",
    "print(f\"R2 validación cruzada: {random_search_final.best_score_:.4f}\")\n",
    "print(\"Mejores hiperparámetros:\")\n",
    "print(random_search_final.best_params_)"
   ]
  }
 ],
 "metadata": {
  "colab": {
   "authorship_tag": "ABX9TyNSGDhELdtMAbfcIGHaORWK",
   "provenance": []
  },
  "kernelspec": {
   "display_name": "Python 3",
   "name": "python3"
  },
  "language_info": {
   "codemirror_mode": {
    "name": "ipython",
    "version": 3
   },
   "file_extension": ".py",
   "mimetype": "text/x-python",
   "name": "python",
   "nbconvert_exporter": "python",
   "pygments_lexer": "ipython3",
   "version": "3.12.6"
  }
 },
 "nbformat": 4,
 "nbformat_minor": 0
}
