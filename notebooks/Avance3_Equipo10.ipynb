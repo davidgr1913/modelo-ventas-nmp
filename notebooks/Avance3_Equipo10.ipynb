{
 "cells": [
  {
   "cell_type": "code",
   "execution_count": 6,
   "metadata": {
    "colab": {
     "base_uri": "https://localhost:8080/"
    },
    "executionInfo": {
     "elapsed": 550,
     "status": "ok",
     "timestamp": 1747275452857,
     "user": {
      "displayName": "David Nava Jiménez",
      "userId": "10453943596792754694"
     },
     "user_tz": 360
    },
    "id": "ITRG7raTjGE1",
    "outputId": "c492a956-1a7a-41f0-b53d-9d06a329ec2d"
   },
   "outputs": [],
   "source": [
    "#from google.colab import drive\n",
    "#drive.mount('/content/drive')"
   ]
  },
  {
   "cell_type": "markdown",
   "metadata": {},
   "source": [
    "**Maestría en Inteligencia Artificial Aplicada**\n",
    "\n",
    "\n",
    "Materia: Proyecto Integrador\n",
    "Profesor titular: Dra. Grettel Barceló Alonso / Dr. Luis Eduardo Falcón Morales\n",
    "\n",
    "ASESOR - PROYECTO INTEGRADOR ABR25\n",
    "Dr. Carlos Villaseñor\n",
    "\n",
    "\n",
    "\n",
    "Equipo 10\n",
    "David García Robles - A01152606\n",
    "David Nava Jiménez - A01168501\n",
    "José Antonio Hernández Hernández - A01381334"
   ]
  },
  {
   "cell_type": "code",
   "execution_count": 7,
   "metadata": {},
   "outputs": [
    {
     "name": "stdout",
     "output_type": "stream",
     "text": [
      "Requirement already satisfied: xgboost in c:\\users\\david\\gitrepo\\itesm_venv\\lib\\site-packages (2.1.1)\n",
      "Requirement already satisfied: numpy in c:\\users\\david\\gitrepo\\itesm_venv\\lib\\site-packages (from xgboost) (1.26.4)\n",
      "Requirement already satisfied: scipy in c:\\users\\david\\gitrepo\\itesm_venv\\lib\\site-packages (from xgboost) (1.10.1)\n"
     ]
    },
    {
     "name": "stderr",
     "output_type": "stream",
     "text": [
      "\n",
      "[notice] A new release of pip is available: 23.0.1 -> 25.1.1\n",
      "[notice] To update, run: python.exe -m pip install --upgrade pip\n"
     ]
    }
   ],
   "source": [
    "!pip install xgboost"
   ]
  },
  {
   "cell_type": "code",
   "execution_count": 8,
   "metadata": {
    "executionInfo": {
     "elapsed": 3059,
     "status": "ok",
     "timestamp": 1747275455913,
     "user": {
      "displayName": "David Nava Jiménez",
      "userId": "10453943596792754694"
     },
     "user_tz": 360
    },
    "id": "WPhO5w33jm4F"
   },
   "outputs": [],
   "source": [
    "# Manipulación de datos\n",
    "import pandas as pd\n",
    "import numpy as np\n",
    "\n",
    "# Visualización\n",
    "import matplotlib.pyplot as plt\n",
    "\n",
    "# Modelos\n",
    "from sklearn.linear_model import LinearRegression, ElasticNet\n",
    "from sklearn.tree import DecisionTreeRegressor\n",
    "from sklearn.ensemble import RandomForestRegressor\n",
    "from xgboost import XGBRegressor\n",
    "from sklearn.neural_network import MLPRegressor\n",
    "from sklearn.svm import SVR\n",
    "from sklearn.dummy import DummyRegressor\n",
    "\n",
    "# Preprocesamiento\n",
    "from sklearn.preprocessing import StandardScaler, PolynomialFeatures\n",
    "\n",
    "# Métricas\n",
    "from sklearn.metrics import mean_squared_error, r2_score\n",
    "\n",
    "# Modelado y validación\n",
    "from sklearn.model_selection import (\n",
    "    train_test_split,\n",
    "    cross_val_score,\n",
    "    cross_validate,\n",
    "    KFold,\n",
    "    RepeatedKFold,\n",
    "    RepeatedStratifiedKFold,\n",
    "    RandomizedSearchCV\n",
    ")\n",
    "from sklearn.pipeline import Pipeline\n"
   ]
  },
  {
   "cell_type": "code",
   "execution_count": 9,
   "metadata": {
    "executionInfo": {
     "elapsed": 29651,
     "status": "ok",
     "timestamp": 1747275485572,
     "user": {
      "displayName": "David Nava Jiménez",
      "userId": "10453943596792754694"
     },
     "user_tz": 360
    },
    "id": "83kOtwpIjrdv"
   },
   "outputs": [],
   "source": [
    "df = pd.read_csv('C:/Users/david/GitRepo/modelo-ventas-nmp/data/raw/new_df_afterPCA_1.csv')"
   ]
  },
  {
   "cell_type": "code",
   "execution_count": 10,
   "metadata": {
    "colab": {
     "base_uri": "https://localhost:8080/",
     "height": 273
    },
    "executionInfo": {
     "elapsed": 13,
     "status": "ok",
     "timestamp": 1747275485576,
     "user": {
      "displayName": "David Nava Jiménez",
      "userId": "10453943596792754694"
     },
     "user_tz": 360
    },
    "id": "7PLYURX-kNEM",
    "outputId": "9475d83c-297c-4bf7-c3c4-fb4616725272"
   },
   "outputs": [
    {
     "data": {
      "text/html": [
       "<div>\n",
       "<style scoped>\n",
       "    .dataframe tbody tr th:only-of-type {\n",
       "        vertical-align: middle;\n",
       "    }\n",
       "\n",
       "    .dataframe tbody tr th {\n",
       "        vertical-align: top;\n",
       "    }\n",
       "\n",
       "    .dataframe thead th {\n",
       "        text-align: right;\n",
       "    }\n",
       "</style>\n",
       "<table border=\"1\" class=\"dataframe\">\n",
       "  <thead>\n",
       "    <tr style=\"text-align: right;\">\n",
       "      <th></th>\n",
       "      <th>PC1</th>\n",
       "      <th>PC2</th>\n",
       "      <th>PC3</th>\n",
       "      <th>PC4</th>\n",
       "      <th>PC5</th>\n",
       "      <th>ESTADO_SUCURSAL_BAJA CALIFORNIA NORTE</th>\n",
       "      <th>ESTADO_SUCURSAL_BAJA CALIFORNIA SUR</th>\n",
       "      <th>ESTADO_SUCURSAL_CAMPECHE</th>\n",
       "      <th>ESTADO_SUCURSAL_CHIAPAS</th>\n",
       "      <th>ESTADO_SUCURSAL_CHIHUAHUA</th>\n",
       "      <th>...</th>\n",
       "      <th>VALUADOR_1</th>\n",
       "      <th>VALUADOR_2</th>\n",
       "      <th>VALUADOR_3</th>\n",
       "      <th>VALUADOR_4</th>\n",
       "      <th>VALUADOR_5</th>\n",
       "      <th>VALUADOR_6</th>\n",
       "      <th>VALUADOR_7</th>\n",
       "      <th>VALUADOR_8</th>\n",
       "      <th>VALUADOR_9</th>\n",
       "      <th>DIAS_ALMONEDA</th>\n",
       "    </tr>\n",
       "  </thead>\n",
       "  <tbody>\n",
       "    <tr>\n",
       "      <th>0</th>\n",
       "      <td>0.263398</td>\n",
       "      <td>-0.234472</td>\n",
       "      <td>-0.129190</td>\n",
       "      <td>0.576329</td>\n",
       "      <td>-0.310379</td>\n",
       "      <td>0.0</td>\n",
       "      <td>0.0</td>\n",
       "      <td>0.0</td>\n",
       "      <td>0.0</td>\n",
       "      <td>0.0</td>\n",
       "      <td>...</td>\n",
       "      <td>0.0</td>\n",
       "      <td>0.0</td>\n",
       "      <td>0.0</td>\n",
       "      <td>0.0</td>\n",
       "      <td>0.0</td>\n",
       "      <td>0.0</td>\n",
       "      <td>0.0</td>\n",
       "      <td>0.0</td>\n",
       "      <td>1.0</td>\n",
       "      <td>31.0</td>\n",
       "    </tr>\n",
       "    <tr>\n",
       "      <th>1</th>\n",
       "      <td>0.264760</td>\n",
       "      <td>-0.237999</td>\n",
       "      <td>-0.206347</td>\n",
       "      <td>0.567476</td>\n",
       "      <td>-0.300945</td>\n",
       "      <td>0.0</td>\n",
       "      <td>0.0</td>\n",
       "      <td>0.0</td>\n",
       "      <td>0.0</td>\n",
       "      <td>0.0</td>\n",
       "      <td>...</td>\n",
       "      <td>0.0</td>\n",
       "      <td>0.0</td>\n",
       "      <td>0.0</td>\n",
       "      <td>0.0</td>\n",
       "      <td>0.0</td>\n",
       "      <td>0.0</td>\n",
       "      <td>0.0</td>\n",
       "      <td>0.0</td>\n",
       "      <td>1.0</td>\n",
       "      <td>31.0</td>\n",
       "    </tr>\n",
       "    <tr>\n",
       "      <th>2</th>\n",
       "      <td>0.270882</td>\n",
       "      <td>-0.233092</td>\n",
       "      <td>-0.114559</td>\n",
       "      <td>0.578582</td>\n",
       "      <td>-0.337764</td>\n",
       "      <td>0.0</td>\n",
       "      <td>0.0</td>\n",
       "      <td>0.0</td>\n",
       "      <td>0.0</td>\n",
       "      <td>0.0</td>\n",
       "      <td>...</td>\n",
       "      <td>0.0</td>\n",
       "      <td>0.0</td>\n",
       "      <td>0.0</td>\n",
       "      <td>0.0</td>\n",
       "      <td>0.0</td>\n",
       "      <td>0.0</td>\n",
       "      <td>0.0</td>\n",
       "      <td>0.0</td>\n",
       "      <td>1.0</td>\n",
       "      <td>31.0</td>\n",
       "    </tr>\n",
       "    <tr>\n",
       "      <th>3</th>\n",
       "      <td>0.239039</td>\n",
       "      <td>-0.249443</td>\n",
       "      <td>-0.463313</td>\n",
       "      <td>0.785727</td>\n",
       "      <td>0.098385</td>\n",
       "      <td>0.0</td>\n",
       "      <td>0.0</td>\n",
       "      <td>0.0</td>\n",
       "      <td>0.0</td>\n",
       "      <td>0.0</td>\n",
       "      <td>...</td>\n",
       "      <td>0.0</td>\n",
       "      <td>0.0</td>\n",
       "      <td>0.0</td>\n",
       "      <td>0.0</td>\n",
       "      <td>0.0</td>\n",
       "      <td>0.0</td>\n",
       "      <td>0.0</td>\n",
       "      <td>1.0</td>\n",
       "      <td>0.0</td>\n",
       "      <td>29.0</td>\n",
       "    </tr>\n",
       "    <tr>\n",
       "      <th>4</th>\n",
       "      <td>0.217479</td>\n",
       "      <td>-0.254239</td>\n",
       "      <td>-0.576575</td>\n",
       "      <td>0.740370</td>\n",
       "      <td>0.095825</td>\n",
       "      <td>0.0</td>\n",
       "      <td>0.0</td>\n",
       "      <td>0.0</td>\n",
       "      <td>0.0</td>\n",
       "      <td>0.0</td>\n",
       "      <td>...</td>\n",
       "      <td>0.0</td>\n",
       "      <td>0.0</td>\n",
       "      <td>0.0</td>\n",
       "      <td>0.0</td>\n",
       "      <td>0.0</td>\n",
       "      <td>0.0</td>\n",
       "      <td>0.0</td>\n",
       "      <td>1.0</td>\n",
       "      <td>1.0</td>\n",
       "      <td>21.0</td>\n",
       "    </tr>\n",
       "  </tbody>\n",
       "</table>\n",
       "<p>5 rows × 143 columns</p>\n",
       "</div>"
      ],
      "text/plain": [
       "        PC1       PC2       PC3       PC4       PC5  \\\n",
       "0  0.263398 -0.234472 -0.129190  0.576329 -0.310379   \n",
       "1  0.264760 -0.237999 -0.206347  0.567476 -0.300945   \n",
       "2  0.270882 -0.233092 -0.114559  0.578582 -0.337764   \n",
       "3  0.239039 -0.249443 -0.463313  0.785727  0.098385   \n",
       "4  0.217479 -0.254239 -0.576575  0.740370  0.095825   \n",
       "\n",
       "   ESTADO_SUCURSAL_BAJA CALIFORNIA NORTE  ESTADO_SUCURSAL_BAJA CALIFORNIA SUR  \\\n",
       "0                                    0.0                                  0.0   \n",
       "1                                    0.0                                  0.0   \n",
       "2                                    0.0                                  0.0   \n",
       "3                                    0.0                                  0.0   \n",
       "4                                    0.0                                  0.0   \n",
       "\n",
       "   ESTADO_SUCURSAL_CAMPECHE  ESTADO_SUCURSAL_CHIAPAS  \\\n",
       "0                       0.0                      0.0   \n",
       "1                       0.0                      0.0   \n",
       "2                       0.0                      0.0   \n",
       "3                       0.0                      0.0   \n",
       "4                       0.0                      0.0   \n",
       "\n",
       "   ESTADO_SUCURSAL_CHIHUAHUA  ...  VALUADOR_1  VALUADOR_2  VALUADOR_3  \\\n",
       "0                        0.0  ...         0.0         0.0         0.0   \n",
       "1                        0.0  ...         0.0         0.0         0.0   \n",
       "2                        0.0  ...         0.0         0.0         0.0   \n",
       "3                        0.0  ...         0.0         0.0         0.0   \n",
       "4                        0.0  ...         0.0         0.0         0.0   \n",
       "\n",
       "   VALUADOR_4  VALUADOR_5  VALUADOR_6  VALUADOR_7  VALUADOR_8  VALUADOR_9  \\\n",
       "0         0.0         0.0         0.0         0.0         0.0         1.0   \n",
       "1         0.0         0.0         0.0         0.0         0.0         1.0   \n",
       "2         0.0         0.0         0.0         0.0         0.0         1.0   \n",
       "3         0.0         0.0         0.0         0.0         1.0         0.0   \n",
       "4         0.0         0.0         0.0         0.0         1.0         1.0   \n",
       "\n",
       "   DIAS_ALMONEDA  \n",
       "0           31.0  \n",
       "1           31.0  \n",
       "2           31.0  \n",
       "3           29.0  \n",
       "4           21.0  \n",
       "\n",
       "[5 rows x 143 columns]"
      ]
     },
     "execution_count": 10,
     "metadata": {},
     "output_type": "execute_result"
    }
   ],
   "source": [
    "df.head(5)"
   ]
  },
  {
   "cell_type": "code",
   "execution_count": 11,
   "metadata": {
    "colab": {
     "base_uri": "https://localhost:8080/"
    },
    "executionInfo": {
     "elapsed": 5,
     "status": "ok",
     "timestamp": 1747275485582,
     "user": {
      "displayName": "David Nava Jiménez",
      "userId": "10453943596792754694"
     },
     "user_tz": 360
    },
    "id": "rCbiwVhUmpFk",
    "outputId": "7195545a-ea3d-48f8-bf75-d254072ed114"
   },
   "outputs": [
    {
     "data": {
      "text/plain": [
       "(1047304, 143)"
      ]
     },
     "execution_count": 11,
     "metadata": {},
     "output_type": "execute_result"
    }
   ],
   "source": [
    "df.shape"
   ]
  },
  {
   "cell_type": "code",
   "execution_count": 12,
   "metadata": {
    "executionInfo": {
     "elapsed": 1039,
     "status": "ok",
     "timestamp": 1747275486622,
     "user": {
      "displayName": "David Nava Jiménez",
      "userId": "10453943596792754694"
     },
     "user_tz": 360
    },
    "id": "LHa1r0AwmkTb"
   },
   "outputs": [],
   "source": [
    "df = df.dropna()"
   ]
  },
  {
   "cell_type": "code",
   "execution_count": 13,
   "metadata": {
    "colab": {
     "base_uri": "https://localhost:8080/"
    },
    "executionInfo": {
     "elapsed": 7,
     "status": "ok",
     "timestamp": 1747275486628,
     "user": {
      "displayName": "David Nava Jiménez",
      "userId": "10453943596792754694"
     },
     "user_tz": 360
    },
    "id": "uErcO-fzmnUe",
    "outputId": "4e025bc2-b1dd-4e64-a92c-978fd541635d"
   },
   "outputs": [
    {
     "data": {
      "text/plain": [
       "(1047304, 143)"
      ]
     },
     "execution_count": 13,
     "metadata": {},
     "output_type": "execute_result"
    }
   ],
   "source": [
    "df.shape"
   ]
  },
  {
   "cell_type": "markdown",
   "metadata": {
    "id": "0iZd0XIykdIR"
   },
   "source": [
    "Comentarios: A continuación vamos a particionar el dataframe en los datos que van a entrenar el modelo, validar y el testing. Como primer paso dejamos la variable objetivo a parte del dataframe de variables predictoras."
   ]
  },
  {
   "cell_type": "code",
   "execution_count": 14,
   "metadata": {
    "colab": {
     "base_uri": "https://localhost:8080/",
     "height": 461
    },
    "executionInfo": {
     "elapsed": 785,
     "status": "ok",
     "timestamp": 1747275487413,
     "user": {
      "displayName": "David Nava Jiménez",
      "userId": "10453943596792754694"
     },
     "user_tz": 360
    },
    "id": "aHx62yjAkwzM",
    "outputId": "2ccb2ff8-1008-4770-f402-8a3ce11bff54"
   },
   "outputs": [
    {
     "data": {
      "text/html": [
       "<div>\n",
       "<style scoped>\n",
       "    .dataframe tbody tr th:only-of-type {\n",
       "        vertical-align: middle;\n",
       "    }\n",
       "\n",
       "    .dataframe tbody tr th {\n",
       "        vertical-align: top;\n",
       "    }\n",
       "\n",
       "    .dataframe thead th {\n",
       "        text-align: right;\n",
       "    }\n",
       "</style>\n",
       "<table border=\"1\" class=\"dataframe\">\n",
       "  <thead>\n",
       "    <tr style=\"text-align: right;\">\n",
       "      <th></th>\n",
       "      <th>PC1</th>\n",
       "      <th>PC2</th>\n",
       "      <th>PC3</th>\n",
       "      <th>PC4</th>\n",
       "      <th>PC5</th>\n",
       "      <th>ESTADO_SUCURSAL_BAJA CALIFORNIA NORTE</th>\n",
       "      <th>ESTADO_SUCURSAL_BAJA CALIFORNIA SUR</th>\n",
       "      <th>ESTADO_SUCURSAL_CAMPECHE</th>\n",
       "      <th>ESTADO_SUCURSAL_CHIAPAS</th>\n",
       "      <th>ESTADO_SUCURSAL_CHIHUAHUA</th>\n",
       "      <th>...</th>\n",
       "      <th>VALUADOR_0</th>\n",
       "      <th>VALUADOR_1</th>\n",
       "      <th>VALUADOR_2</th>\n",
       "      <th>VALUADOR_3</th>\n",
       "      <th>VALUADOR_4</th>\n",
       "      <th>VALUADOR_5</th>\n",
       "      <th>VALUADOR_6</th>\n",
       "      <th>VALUADOR_7</th>\n",
       "      <th>VALUADOR_8</th>\n",
       "      <th>VALUADOR_9</th>\n",
       "    </tr>\n",
       "  </thead>\n",
       "  <tbody>\n",
       "    <tr>\n",
       "      <th>0</th>\n",
       "      <td>0.263398</td>\n",
       "      <td>-0.234472</td>\n",
       "      <td>-0.129190</td>\n",
       "      <td>0.576329</td>\n",
       "      <td>-0.310379</td>\n",
       "      <td>0.0</td>\n",
       "      <td>0.0</td>\n",
       "      <td>0.0</td>\n",
       "      <td>0.0</td>\n",
       "      <td>0.0</td>\n",
       "      <td>...</td>\n",
       "      <td>0.0</td>\n",
       "      <td>0.0</td>\n",
       "      <td>0.0</td>\n",
       "      <td>0.0</td>\n",
       "      <td>0.0</td>\n",
       "      <td>0.0</td>\n",
       "      <td>0.0</td>\n",
       "      <td>0.0</td>\n",
       "      <td>0.0</td>\n",
       "      <td>1.0</td>\n",
       "    </tr>\n",
       "    <tr>\n",
       "      <th>1</th>\n",
       "      <td>0.264760</td>\n",
       "      <td>-0.237999</td>\n",
       "      <td>-0.206347</td>\n",
       "      <td>0.567476</td>\n",
       "      <td>-0.300945</td>\n",
       "      <td>0.0</td>\n",
       "      <td>0.0</td>\n",
       "      <td>0.0</td>\n",
       "      <td>0.0</td>\n",
       "      <td>0.0</td>\n",
       "      <td>...</td>\n",
       "      <td>0.0</td>\n",
       "      <td>0.0</td>\n",
       "      <td>0.0</td>\n",
       "      <td>0.0</td>\n",
       "      <td>0.0</td>\n",
       "      <td>0.0</td>\n",
       "      <td>0.0</td>\n",
       "      <td>0.0</td>\n",
       "      <td>0.0</td>\n",
       "      <td>1.0</td>\n",
       "    </tr>\n",
       "    <tr>\n",
       "      <th>2</th>\n",
       "      <td>0.270882</td>\n",
       "      <td>-0.233092</td>\n",
       "      <td>-0.114559</td>\n",
       "      <td>0.578582</td>\n",
       "      <td>-0.337764</td>\n",
       "      <td>0.0</td>\n",
       "      <td>0.0</td>\n",
       "      <td>0.0</td>\n",
       "      <td>0.0</td>\n",
       "      <td>0.0</td>\n",
       "      <td>...</td>\n",
       "      <td>0.0</td>\n",
       "      <td>0.0</td>\n",
       "      <td>0.0</td>\n",
       "      <td>0.0</td>\n",
       "      <td>0.0</td>\n",
       "      <td>0.0</td>\n",
       "      <td>0.0</td>\n",
       "      <td>0.0</td>\n",
       "      <td>0.0</td>\n",
       "      <td>1.0</td>\n",
       "    </tr>\n",
       "    <tr>\n",
       "      <th>3</th>\n",
       "      <td>0.239039</td>\n",
       "      <td>-0.249443</td>\n",
       "      <td>-0.463313</td>\n",
       "      <td>0.785727</td>\n",
       "      <td>0.098385</td>\n",
       "      <td>0.0</td>\n",
       "      <td>0.0</td>\n",
       "      <td>0.0</td>\n",
       "      <td>0.0</td>\n",
       "      <td>0.0</td>\n",
       "      <td>...</td>\n",
       "      <td>0.0</td>\n",
       "      <td>0.0</td>\n",
       "      <td>0.0</td>\n",
       "      <td>0.0</td>\n",
       "      <td>0.0</td>\n",
       "      <td>0.0</td>\n",
       "      <td>0.0</td>\n",
       "      <td>0.0</td>\n",
       "      <td>1.0</td>\n",
       "      <td>0.0</td>\n",
       "    </tr>\n",
       "    <tr>\n",
       "      <th>4</th>\n",
       "      <td>0.217479</td>\n",
       "      <td>-0.254239</td>\n",
       "      <td>-0.576575</td>\n",
       "      <td>0.740370</td>\n",
       "      <td>0.095825</td>\n",
       "      <td>0.0</td>\n",
       "      <td>0.0</td>\n",
       "      <td>0.0</td>\n",
       "      <td>0.0</td>\n",
       "      <td>0.0</td>\n",
       "      <td>...</td>\n",
       "      <td>0.0</td>\n",
       "      <td>0.0</td>\n",
       "      <td>0.0</td>\n",
       "      <td>0.0</td>\n",
       "      <td>0.0</td>\n",
       "      <td>0.0</td>\n",
       "      <td>0.0</td>\n",
       "      <td>0.0</td>\n",
       "      <td>1.0</td>\n",
       "      <td>1.0</td>\n",
       "    </tr>\n",
       "    <tr>\n",
       "      <th>...</th>\n",
       "      <td>...</td>\n",
       "      <td>...</td>\n",
       "      <td>...</td>\n",
       "      <td>...</td>\n",
       "      <td>...</td>\n",
       "      <td>...</td>\n",
       "      <td>...</td>\n",
       "      <td>...</td>\n",
       "      <td>...</td>\n",
       "      <td>...</td>\n",
       "      <td>...</td>\n",
       "      <td>...</td>\n",
       "      <td>...</td>\n",
       "      <td>...</td>\n",
       "      <td>...</td>\n",
       "      <td>...</td>\n",
       "      <td>...</td>\n",
       "      <td>...</td>\n",
       "      <td>...</td>\n",
       "      <td>...</td>\n",
       "      <td>...</td>\n",
       "    </tr>\n",
       "    <tr>\n",
       "      <th>1047299</th>\n",
       "      <td>0.291404</td>\n",
       "      <td>-0.225574</td>\n",
       "      <td>0.018622</td>\n",
       "      <td>0.604773</td>\n",
       "      <td>-0.396036</td>\n",
       "      <td>0.0</td>\n",
       "      <td>0.0</td>\n",
       "      <td>0.0</td>\n",
       "      <td>0.0</td>\n",
       "      <td>0.0</td>\n",
       "      <td>...</td>\n",
       "      <td>0.0</td>\n",
       "      <td>0.0</td>\n",
       "      <td>0.0</td>\n",
       "      <td>0.0</td>\n",
       "      <td>1.0</td>\n",
       "      <td>0.0</td>\n",
       "      <td>1.0</td>\n",
       "      <td>1.0</td>\n",
       "      <td>0.0</td>\n",
       "      <td>1.0</td>\n",
       "    </tr>\n",
       "    <tr>\n",
       "      <th>1047300</th>\n",
       "      <td>0.278722</td>\n",
       "      <td>-0.235380</td>\n",
       "      <td>-0.163890</td>\n",
       "      <td>0.582498</td>\n",
       "      <td>-0.322596</td>\n",
       "      <td>0.0</td>\n",
       "      <td>0.0</td>\n",
       "      <td>0.0</td>\n",
       "      <td>0.0</td>\n",
       "      <td>0.0</td>\n",
       "      <td>...</td>\n",
       "      <td>0.0</td>\n",
       "      <td>0.0</td>\n",
       "      <td>0.0</td>\n",
       "      <td>0.0</td>\n",
       "      <td>1.0</td>\n",
       "      <td>1.0</td>\n",
       "      <td>1.0</td>\n",
       "      <td>0.0</td>\n",
       "      <td>1.0</td>\n",
       "      <td>0.0</td>\n",
       "    </tr>\n",
       "    <tr>\n",
       "      <th>1047301</th>\n",
       "      <td>0.306887</td>\n",
       "      <td>-0.213667</td>\n",
       "      <td>0.238974</td>\n",
       "      <td>0.631411</td>\n",
       "      <td>-0.485269</td>\n",
       "      <td>0.0</td>\n",
       "      <td>0.0</td>\n",
       "      <td>0.0</td>\n",
       "      <td>0.0</td>\n",
       "      <td>0.0</td>\n",
       "      <td>...</td>\n",
       "      <td>0.0</td>\n",
       "      <td>0.0</td>\n",
       "      <td>0.0</td>\n",
       "      <td>1.0</td>\n",
       "      <td>1.0</td>\n",
       "      <td>0.0</td>\n",
       "      <td>0.0</td>\n",
       "      <td>0.0</td>\n",
       "      <td>0.0</td>\n",
       "      <td>0.0</td>\n",
       "    </tr>\n",
       "    <tr>\n",
       "      <th>1047302</th>\n",
       "      <td>0.316440</td>\n",
       "      <td>-0.214007</td>\n",
       "      <td>0.226761</td>\n",
       "      <td>0.639259</td>\n",
       "      <td>-0.484765</td>\n",
       "      <td>0.0</td>\n",
       "      <td>0.0</td>\n",
       "      <td>0.0</td>\n",
       "      <td>0.0</td>\n",
       "      <td>0.0</td>\n",
       "      <td>...</td>\n",
       "      <td>0.0</td>\n",
       "      <td>1.0</td>\n",
       "      <td>1.0</td>\n",
       "      <td>0.0</td>\n",
       "      <td>0.0</td>\n",
       "      <td>0.0</td>\n",
       "      <td>0.0</td>\n",
       "      <td>0.0</td>\n",
       "      <td>1.0</td>\n",
       "      <td>1.0</td>\n",
       "    </tr>\n",
       "    <tr>\n",
       "      <th>1047303</th>\n",
       "      <td>0.325666</td>\n",
       "      <td>-0.215289</td>\n",
       "      <td>0.197479</td>\n",
       "      <td>0.646377</td>\n",
       "      <td>-0.478495</td>\n",
       "      <td>0.0</td>\n",
       "      <td>0.0</td>\n",
       "      <td>0.0</td>\n",
       "      <td>0.0</td>\n",
       "      <td>0.0</td>\n",
       "      <td>...</td>\n",
       "      <td>0.0</td>\n",
       "      <td>0.0</td>\n",
       "      <td>0.0</td>\n",
       "      <td>1.0</td>\n",
       "      <td>0.0</td>\n",
       "      <td>1.0</td>\n",
       "      <td>0.0</td>\n",
       "      <td>0.0</td>\n",
       "      <td>1.0</td>\n",
       "      <td>1.0</td>\n",
       "    </tr>\n",
       "  </tbody>\n",
       "</table>\n",
       "<p>1047304 rows × 142 columns</p>\n",
       "</div>"
      ],
      "text/plain": [
       "              PC1       PC2       PC3       PC4       PC5  \\\n",
       "0        0.263398 -0.234472 -0.129190  0.576329 -0.310379   \n",
       "1        0.264760 -0.237999 -0.206347  0.567476 -0.300945   \n",
       "2        0.270882 -0.233092 -0.114559  0.578582 -0.337764   \n",
       "3        0.239039 -0.249443 -0.463313  0.785727  0.098385   \n",
       "4        0.217479 -0.254239 -0.576575  0.740370  0.095825   \n",
       "...           ...       ...       ...       ...       ...   \n",
       "1047299  0.291404 -0.225574  0.018622  0.604773 -0.396036   \n",
       "1047300  0.278722 -0.235380 -0.163890  0.582498 -0.322596   \n",
       "1047301  0.306887 -0.213667  0.238974  0.631411 -0.485269   \n",
       "1047302  0.316440 -0.214007  0.226761  0.639259 -0.484765   \n",
       "1047303  0.325666 -0.215289  0.197479  0.646377 -0.478495   \n",
       "\n",
       "         ESTADO_SUCURSAL_BAJA CALIFORNIA NORTE  \\\n",
       "0                                          0.0   \n",
       "1                                          0.0   \n",
       "2                                          0.0   \n",
       "3                                          0.0   \n",
       "4                                          0.0   \n",
       "...                                        ...   \n",
       "1047299                                    0.0   \n",
       "1047300                                    0.0   \n",
       "1047301                                    0.0   \n",
       "1047302                                    0.0   \n",
       "1047303                                    0.0   \n",
       "\n",
       "         ESTADO_SUCURSAL_BAJA CALIFORNIA SUR  ESTADO_SUCURSAL_CAMPECHE  \\\n",
       "0                                        0.0                       0.0   \n",
       "1                                        0.0                       0.0   \n",
       "2                                        0.0                       0.0   \n",
       "3                                        0.0                       0.0   \n",
       "4                                        0.0                       0.0   \n",
       "...                                      ...                       ...   \n",
       "1047299                                  0.0                       0.0   \n",
       "1047300                                  0.0                       0.0   \n",
       "1047301                                  0.0                       0.0   \n",
       "1047302                                  0.0                       0.0   \n",
       "1047303                                  0.0                       0.0   \n",
       "\n",
       "         ESTADO_SUCURSAL_CHIAPAS  ESTADO_SUCURSAL_CHIHUAHUA  ...  VALUADOR_0  \\\n",
       "0                            0.0                        0.0  ...         0.0   \n",
       "1                            0.0                        0.0  ...         0.0   \n",
       "2                            0.0                        0.0  ...         0.0   \n",
       "3                            0.0                        0.0  ...         0.0   \n",
       "4                            0.0                        0.0  ...         0.0   \n",
       "...                          ...                        ...  ...         ...   \n",
       "1047299                      0.0                        0.0  ...         0.0   \n",
       "1047300                      0.0                        0.0  ...         0.0   \n",
       "1047301                      0.0                        0.0  ...         0.0   \n",
       "1047302                      0.0                        0.0  ...         0.0   \n",
       "1047303                      0.0                        0.0  ...         0.0   \n",
       "\n",
       "         VALUADOR_1  VALUADOR_2  VALUADOR_3  VALUADOR_4  VALUADOR_5  \\\n",
       "0               0.0         0.0         0.0         0.0         0.0   \n",
       "1               0.0         0.0         0.0         0.0         0.0   \n",
       "2               0.0         0.0         0.0         0.0         0.0   \n",
       "3               0.0         0.0         0.0         0.0         0.0   \n",
       "4               0.0         0.0         0.0         0.0         0.0   \n",
       "...             ...         ...         ...         ...         ...   \n",
       "1047299         0.0         0.0         0.0         1.0         0.0   \n",
       "1047300         0.0         0.0         0.0         1.0         1.0   \n",
       "1047301         0.0         0.0         1.0         1.0         0.0   \n",
       "1047302         1.0         1.0         0.0         0.0         0.0   \n",
       "1047303         0.0         0.0         1.0         0.0         1.0   \n",
       "\n",
       "         VALUADOR_6  VALUADOR_7  VALUADOR_8  VALUADOR_9  \n",
       "0               0.0         0.0         0.0         1.0  \n",
       "1               0.0         0.0         0.0         1.0  \n",
       "2               0.0         0.0         0.0         1.0  \n",
       "3               0.0         0.0         1.0         0.0  \n",
       "4               0.0         0.0         1.0         1.0  \n",
       "...             ...         ...         ...         ...  \n",
       "1047299         1.0         1.0         0.0         1.0  \n",
       "1047300         1.0         0.0         1.0         0.0  \n",
       "1047301         0.0         0.0         0.0         0.0  \n",
       "1047302         0.0         0.0         1.0         1.0  \n",
       "1047303         0.0         0.0         1.0         1.0  \n",
       "\n",
       "[1047304 rows x 142 columns]"
      ]
     },
     "execution_count": 14,
     "metadata": {},
     "output_type": "execute_result"
    }
   ],
   "source": [
    "X = df.drop(df[['DIAS_ALMONEDA']],axis=1)\n",
    "X"
   ]
  },
  {
   "cell_type": "code",
   "execution_count": 15,
   "metadata": {
    "colab": {
     "base_uri": "https://localhost:8080/",
     "height": 424
    },
    "executionInfo": {
     "elapsed": 5,
     "status": "ok",
     "timestamp": 1747275487426,
     "user": {
      "displayName": "David Nava Jiménez",
      "userId": "10453943596792754694"
     },
     "user_tz": 360
    },
    "id": "Aa5VkHvIlNqV",
    "outputId": "941f9bce-c27f-4534-acbc-4d551dd48447"
   },
   "outputs": [
    {
     "data": {
      "text/html": [
       "<div>\n",
       "<style scoped>\n",
       "    .dataframe tbody tr th:only-of-type {\n",
       "        vertical-align: middle;\n",
       "    }\n",
       "\n",
       "    .dataframe tbody tr th {\n",
       "        vertical-align: top;\n",
       "    }\n",
       "\n",
       "    .dataframe thead th {\n",
       "        text-align: right;\n",
       "    }\n",
       "</style>\n",
       "<table border=\"1\" class=\"dataframe\">\n",
       "  <thead>\n",
       "    <tr style=\"text-align: right;\">\n",
       "      <th></th>\n",
       "      <th>DIAS_ALMONEDA</th>\n",
       "    </tr>\n",
       "  </thead>\n",
       "  <tbody>\n",
       "    <tr>\n",
       "      <th>0</th>\n",
       "      <td>31.0</td>\n",
       "    </tr>\n",
       "    <tr>\n",
       "      <th>1</th>\n",
       "      <td>31.0</td>\n",
       "    </tr>\n",
       "    <tr>\n",
       "      <th>2</th>\n",
       "      <td>31.0</td>\n",
       "    </tr>\n",
       "    <tr>\n",
       "      <th>3</th>\n",
       "      <td>29.0</td>\n",
       "    </tr>\n",
       "    <tr>\n",
       "      <th>4</th>\n",
       "      <td>21.0</td>\n",
       "    </tr>\n",
       "    <tr>\n",
       "      <th>...</th>\n",
       "      <td>...</td>\n",
       "    </tr>\n",
       "    <tr>\n",
       "      <th>1047299</th>\n",
       "      <td>4.0</td>\n",
       "    </tr>\n",
       "    <tr>\n",
       "      <th>1047300</th>\n",
       "      <td>4.0</td>\n",
       "    </tr>\n",
       "    <tr>\n",
       "      <th>1047301</th>\n",
       "      <td>4.0</td>\n",
       "    </tr>\n",
       "    <tr>\n",
       "      <th>1047302</th>\n",
       "      <td>4.0</td>\n",
       "    </tr>\n",
       "    <tr>\n",
       "      <th>1047303</th>\n",
       "      <td>4.0</td>\n",
       "    </tr>\n",
       "  </tbody>\n",
       "</table>\n",
       "<p>1047304 rows × 1 columns</p>\n",
       "</div>"
      ],
      "text/plain": [
       "         DIAS_ALMONEDA\n",
       "0                 31.0\n",
       "1                 31.0\n",
       "2                 31.0\n",
       "3                 29.0\n",
       "4                 21.0\n",
       "...                ...\n",
       "1047299            4.0\n",
       "1047300            4.0\n",
       "1047301            4.0\n",
       "1047302            4.0\n",
       "1047303            4.0\n",
       "\n",
       "[1047304 rows x 1 columns]"
      ]
     },
     "execution_count": 15,
     "metadata": {},
     "output_type": "execute_result"
    }
   ],
   "source": [
    "y =df[['DIAS_ALMONEDA']].copy()\n",
    "y"
   ]
  },
  {
   "cell_type": "markdown",
   "metadata": {
    "id": "HuHmpo0tlYCq"
   },
   "source": [
    "A continuación vamos a realizar una partición 70-15-15 en entrenamiento, validación y prueba respectivamente."
   ]
  },
  {
   "cell_type": "code",
   "execution_count": 16,
   "metadata": {
    "executionInfo": {
     "elapsed": 3700,
     "status": "ok",
     "timestamp": 1747275491127,
     "user": {
      "displayName": "David Nava Jiménez",
      "userId": "10453943596792754694"
     },
     "user_tz": 360
    },
    "id": "Fz-Rx_cGlgdy"
   },
   "outputs": [],
   "source": [
    "Xtrain, xtemp, ytrain, ytemp = train_test_split(X, y, test_size =.30, random_state=27)\n",
    "Xval,Xtest, yval, ytest = train_test_split(xtemp, ytemp, test_size= 0.5, random_state=27)   # División en train y test (80% entrenamiento, 20% prueba) — permite evaluar el modelo con datos no vistos"
   ]
  },
  {
   "cell_type": "code",
   "execution_count": 17,
   "metadata": {
    "colab": {
     "base_uri": "https://localhost:8080/"
    },
    "executionInfo": {
     "elapsed": 10,
     "status": "ok",
     "timestamp": 1747275491138,
     "user": {
      "displayName": "David Nava Jiménez",
      "userId": "10453943596792754694"
     },
     "user_tz": 360
    },
    "id": "FnhafJTMmWlv",
    "outputId": "0898810c-e079-4ba1-d120-f1d61355664b"
   },
   "outputs": [
    {
     "name": "stdout",
     "output_type": "stream",
     "text": [
      "(733112, 142) (733112, 1)\n",
      "(157096, 142) (157096, 1)\n",
      "(157096, 142) (157096, 1)\n"
     ]
    }
   ],
   "source": [
    "print(Xtrain.shape, ytrain.shape)\n",
    "print(Xval.shape, yval.shape)\n",
    "print(Xtest.shape, ytest.shape)"
   ]
  },
  {
   "cell_type": "markdown",
   "metadata": {
    "id": "9amqGdmRp9nA"
   },
   "source": [
    "Comentarios. Como primer propuesta vamos a entrenar y evaluar un modelo de regresión lineal y podremos revisar si sus métricas son adecuadas"
   ]
  },
  {
   "cell_type": "markdown",
   "metadata": {
    "id": "NCvA0gphqScV"
   },
   "source": [
    "Vamos a evaluar el modelo con las métricas,raíz del error cuadrático medio (`RMSE`) y la métrica `R` cuadrado ($R^2$)."
   ]
  },
  {
   "cell_type": "code",
   "execution_count": 18,
   "metadata": {},
   "outputs": [
    {
     "name": "stdout",
     "output_type": "stream",
     "text": [
      "Valores mínimos:\n"
     ]
    },
    {
     "name": "stdout",
     "output_type": "stream",
     "text": [
      "ytrain min: -20.0\n",
      "yval min: -19.0\n",
      "Valores nulos:\n",
      "ytrain nulls: 0\n",
      "yval nulls: 0\n"
     ]
    }
   ],
   "source": [
    "print(\"Valores mínimos:\")\n",
    "print(\"ytrain min:\", ytrain.min().values[0])\n",
    "print(\"yval min:\", yval.min().values[0])\n",
    "\n",
    "print(\"Valores nulos:\")\n",
    "print(\"ytrain nulls:\", ytrain.isnull().sum().values[0])\n",
    "print(\"yval nulls:\", yval.isnull().sum().values[0])\n"
   ]
  },
  {
   "cell_type": "code",
   "execution_count": 19,
   "metadata": {},
   "outputs": [],
   "source": [
    "\n",
    "scaler = StandardScaler()                                                            # Aplicamos StandardScaler para normalizar las variables predictoras\n",
    "Xtrain_scaled = scaler.fit_transform(Xtrain)                                         # Algunos modelos como regresión lineal son sensibles a la escala\n",
    "Xval_scaled = scaler.transform(Xval)\n",
    "\n",
    "mask_train = ytrain['DIAS_ALMONEDA'].values >= 0                                     # Eliminamos entradas con valores negativos en DIAS_ALMONEDA para evitar problemas al aplicar logaritmo\n",
    "mask_val = yval['DIAS_ALMONEDA'].values >= 0\n",
    "\n",
    "Xtrain_valid = Xtrain_scaled[mask_train]\n",
    "ytrain_valid = np.log1p(ytrain['DIAS_ALMONEDA'].values[mask_train])                  # Aplicamos log1p para estabilizar la varianza y mejorar la distribución\n",
    "\n",
    "Xval_valid = Xval_scaled[mask_val]\n",
    "yval_valid_raw = yval['DIAS_ALMONEDA'].values[mask_val]\n",
    "yval_valid_log = np.log1p(yval_valid_raw)"
   ]
  },
  {
   "cell_type": "code",
   "execution_count": 20,
   "metadata": {
    "executionInfo": {
     "elapsed": 16852,
     "status": "ok",
     "timestamp": 1747275507991,
     "user": {
      "displayName": "David Nava Jiménez",
      "userId": "10453943596792754694"
     },
     "user_tz": 360
    },
    "id": "mUIz6xtpp80k"
   },
   "outputs": [],
   "source": [
    "lr_model = LinearRegression()                                                      # Instanciar y entrenar modelo de regresión lineal\n",
    "lr_model.fit(Xtrain_valid, ytrain_valid)\n",
    "\n",
    "y_pred_log = lr_model.predict(Xval_valid)                                          # Predecir en el conjunto de validación (escalado)\n",
    "\n",
    "\n",
    "y_pred_log_clipped = np.clip(y_pred_log, a_min=None, a_max=700)                    # Evitar overflow numérico al aplicar la transformación inversa (expm1)\n",
    "y_pred = np.expm1(y_pred_log_clipped)                                              # Revertir la transformación logarítmica para regresar a la escala original de días\n",
    "y_pred = np.clip(y_pred, a_min=0, a_max=1000)                                      # Limitar valores extremos en la predicción final"
   ]
  },
  {
   "cell_type": "code",
   "execution_count": 21,
   "metadata": {
    "colab": {
     "base_uri": "https://localhost:8080/"
    },
    "executionInfo": {
     "elapsed": 9,
     "status": "ok",
     "timestamp": 1747275507992,
     "user": {
      "displayName": "David Nava Jiménez",
      "userId": "10453943596792754694"
     },
     "user_tz": 360
    },
    "id": "GZKSGtYOq7pW",
    "outputId": "4fcc4a84-8d6b-438b-8b92-7241439b98e2"
   },
   "outputs": [
    {
     "name": "stdout",
     "output_type": "stream",
     "text": [
      "MSE: 15309.9442\n",
      "RMSE: 123.7334\n",
      "R2: 0.1549\n"
     ]
    }
   ],
   "source": [
    "mse = mean_squared_error(yval_valid_raw, y_pred)                                   # Calcular el error cuadrático medio (MSE)\n",
    "rmse = np.sqrt(mse)                                                                # Calcular la raíz del error cuadrático medio (RMSE)\n",
    "r2 = r2_score(yval_valid_raw, y_pred)                                              # Calcular el coeficiente de determinación R2\n",
    "print(f'MSE: {mse:.4f}')\n",
    "print(f'RMSE: {rmse:.4f}')\n",
    "print(f'R2: {r2:.4f}')"
   ]
  },
  {
   "cell_type": "markdown",
   "metadata": {},
   "source": [
    "RMSE: 123.73 días\n",
    "En promedio, el modelo tiene un error de 123 días al predecir la cantidad de días que un artículo tarda en llegar a almoneda. Esta métrica es útil y directamente interpretable, ya que se encuentra en la misma escala que la variable objetivo.\n",
    "\n",
    "R2: 0.1549\n",
    "El modelo explica solo el 16.9% de la varianza total de la variable DIAS_ALMONEDA. Aunque es mejor que un modelo aleatorio o un baseline constante, este valor indica que hay muchas otras variables o factores no capturados por el modelo que influyen en el comportamiento del tiempo hacia almoneda."
   ]
  },
  {
   "cell_type": "markdown",
   "metadata": {},
   "source": [
    "Vamos a utilizar validación-cruzada, por lo que vamos a concatenar los conjuntos de entrenamiento y validación para utilizarlo como entrenamiento"
   ]
  },
  {
   "cell_type": "code",
   "execution_count": 22,
   "metadata": {},
   "outputs": [],
   "source": [
    "Xtrainval = pd.concat([Xtrain,Xval],axis =0)                                      # Unir Xtrain y Xval en un solo conjunto de entrenamiento ampliado\n",
    "ytrainval = pd.concat([ytrain,yval],axis=0)                                       # Unir ytrain y yval en el mismo orden para obtener los targets completos"
   ]
  },
  {
   "cell_type": "code",
   "execution_count": 23,
   "metadata": {},
   "outputs": [
    {
     "name": "stdout",
     "output_type": "stream",
     "text": [
      "(890208, 142) (890208, 1)\n"
     ]
    }
   ],
   "source": [
    "print(Xtrainval.shape, ytrainval.shape)"
   ]
  },
  {
   "cell_type": "markdown",
   "metadata": {},
   "source": [
    "Posterior a esto, vamos a proponer una función llamada \"mis modelos\" incluyendo los modelos que vamos a comparar y vamos a ajustar los parámetros para buscar el mejor modelo"
   ]
  },
  {
   "cell_type": "code",
   "execution_count": 24,
   "metadata": {},
   "outputs": [
    {
     "name": "stdout",
     "output_type": "stream",
     "text": [
      ">> ElasticNet\n",
      "\tTrain R2: 0.277 ± 0.000\n",
      "\tVal   R2: 0.276 ± 0.001\n",
      ">> Dtree\n",
      "\tTrain R2: 0.253 ± 0.009\n",
      "\tVal   R2: 0.209 ± 0.004\n",
      ">> RandomF\n",
      "\tTrain R2: 0.387 ± 0.003\n",
      "\tVal   R2: 0.377 ± 0.003\n",
      ">> XGBoost\n",
      "\tTrain R2: 0.483 ± 0.000\n",
      "\tVal   R2: 0.460 ± 0.000\n"
     ]
    }
   ],
   "source": [
    "def mis_modelos():\n",
    "    modelos, nombres = list(), list()\n",
    "\n",
    "    #ElasticNet\n",
    "    modelos.append(ElasticNet(alpha=0.1, l1_ratio=0.5, tol=0.01, random_state=27))\n",
    "    nombres.append('ElasticNet')\n",
    "\n",
    "\n",
    "    #Árbol de Decisiones\n",
    "    modelos.append(DecisionTreeRegressor(max_depth=15, max_features=5, min_samples_split=5, random_state=27))\n",
    "    nombres.append('Dtree')\n",
    "\n",
    "    #Random Forest\n",
    "    modelos.append(RandomForestRegressor(n_estimators=15, max_depth=10, max_features=20, random_state=27))\n",
    "    nombres.append('RandomF')\n",
    "\n",
    "    #XGBoosting\n",
    "    modelos.append(XGBRegressor(n_estimators=20, max_depth=10, learning_rate=0.1, subsample=1.0,\n",
    "                                 booster='gbtree', objective='reg:squarederror', random_state=27))\n",
    "    nombres.append('XGBoost')\n",
    "\n",
    "\n",
    "\n",
    "    return modelos, nombres\n",
    "\n",
    "#Posteriormente vamos a entrenar cada uno de los modelos y vamos a desplegar las métricas de Train y val\n",
    "\n",
    "modelos, nombres = mis_modelos()\n",
    "resultados =list()\n",
    "\n",
    "\n",
    "\n",
    "\n",
    "cv = RepeatedKFold(n_splits=3, n_repeats=1, random_state=27)\n",
    "\n",
    "for modelo, nombre in zip(modelos, nombres):\n",
    "    pipeline = Pipeline(steps=[('modelo', modelo)])\n",
    "\n",
    "    scores = cross_validate(pipeline,\n",
    "                            Xtrain_valid,\n",
    "                            ytrain_valid,\n",
    "                            scoring='r2',\n",
    "                            cv=cv,\n",
    "                            return_train_score=True,\n",
    "                            n_jobs=1)\n",
    "\n",
    "    resultados.append(scores)\n",
    "\n",
    "    #Desplegamos los valores de las métricas para verificar si no hay subentrenamiento o sobreentrenamiento\n",
    "    print(f\">> {nombre}\")\n",
    "    print(f\"\\tTrain R2: {np.mean(scores['train_score']):.3f} ± {np.std(scores['train_score']):.3f}\")\n",
    "    print(f\"\\tVal   R2: {np.mean(scores['test_score']):.3f} ± {np.std(scores['test_score']):.3f}\")"
   ]
  },
  {
   "cell_type": "markdown",
   "metadata": {},
   "source": [
    "En la comparación de modelos utilizando validación cruzada, se evaluaron cuatro algoritmos: ElasticNet, Árbol de Decisión, Random Forest y XGBoost. El modelo ElasticNet mostró un desempeño muy estable, con un R2 de entrenamiento de 0.277 y un R2 de validación de 0.276, prácticamente idénticos. Esta similitud indica que el modelo no presenta sobreajuste, sin embargo, también revela una capacidad predictiva limitada, ya que solo explica alrededor del 27.6% de la variabilidad de la variable objetivo.\n",
    "\n",
    "El modelo de Árbol de Decisión obtuvo un R2 de entrenamiento de 0.253 y un R2 de validación de 0.209. Aunque su rendimiento es inferior al de ElasticNet, la diferencia entre ambos valores sugiere un ligero sobreajuste. Esto indica que el modelo tiende a ajustarse más a los datos de entrenamiento pero no generaliza tan bien, posiblemente debido a la falta de regularización o a una alta complejidad en los nodos del árbol.\n",
    "\n",
    "Random Forest mostró un rendimiento superior al de los modelos anteriores, alcanzando un R2 de entrenamiento de 0.387 y un R2 de validación de 0.377. La diferencia entre ambos valores es mínima, lo que indica una buena capacidad de generalización. Este modelo logra un equilibrio adecuado entre flexibilidad y estabilidad, representando una mejora sustancial respecto a ElasticNet y el Árbol de Decisión.\n",
    "\n",
    "Finalmente, el modelo XGBoost fue el que obtuvo los mejores resultados globales, con un R2 de entrenamiento de 0.483 y un R2 de validación de 0.460. Esta diferencia controlada entre ambos valores refleja un buen manejo del sobreajuste. Además, el modelo logra explicar cerca del 46% de la variabilidad en los datos de validación, siendo el de mayor capacidad explicativa entre los modelos evaluados. Por tanto, XGBoost se posiciona como el mejor candidato para ser refinado mediante ajuste de hiperparámetros y ser utilizado en la evaluación final sobre el conjunto de prueba."
   ]
  },
  {
   "cell_type": "code",
   "execution_count": null,
   "metadata": {},
   "outputs": [
    {
     "name": "stdout",
     "output_type": "stream",
     "text": [
      " Resultados\n",
      "Fitting 3 folds for each of 5 candidates, totalling 15 fits\n",
      "\\ Mejor modelo ajustado:\n",
      "R2 validación cruzada: 0.5636\n",
      "Mejores hiperparámetros:\n",
      "{'subsample': 0.8, 'n_estimators': 400, 'max_depth': 10, 'learning_rate': 0.05, 'colsample_bytree': 1.0}\n"
     ]
    }
   ],
   "source": [
    "from sklearn.model_selection import RandomizedSearchCV, RepeatedKFold\n",
    "from xgboost import XGBRegressor\n",
    "\n",
    "param_dist_final_tune = {\n",
    "    'n_estimators': [400],\n",
    "    'max_depth': [10],\n",
    "    'learning_rate': [0.03, 0.04, 0.05],\n",
    "    'subsample': [0.8, 1.0],\n",
    "    'colsample_bytree': [1.0]\n",
    "}\n",
    "\n",
    "                                                                                                    # Modelo base\n",
    "xgb_tuned = XGBRegressor(objective='reg:squarederror', random_state=42)\n",
    "\n",
    "                                                                                                    # Validación cruzada\n",
    "cv = RepeatedKFold(n_splits=3, n_repeats=1, random_state=42)\n",
    "\n",
    "                                                                                                    # Búsqueda aleatoria (limitada pero eficiente)\n",
    "random_search_final = RandomizedSearchCV(\n",
    "    estimator=xgb_tuned,\n",
    "    param_distributions=param_dist_final_tune,\n",
    "    n_iter=5,\n",
    "    scoring='r2',\n",
    "    cv=cv,\n",
    "    verbose=1,\n",
    "    n_jobs=1,\n",
    "    random_state=42\n",
    ")\n",
    "\n",
    "                                                                                                    # Entrenar búsqueda\n",
    "print(\" Resultados\")\n",
    "random_search_final.fit(Xtrain_valid, ytrain_valid)\n",
    "\n",
    "                                                                                                    # Resultados\n",
    "print(\"\\ Mejor modelo ajustado:\")\n",
    "print(f\"R2 validación cruzada: {random_search_final.best_score_:.4f}\")\n",
    "print(\"Mejores hiperparámetros:\")\n",
    "print(random_search_final.best_params_)\n",
    "\n"
   ]
  },
  {
   "cell_type": "markdown",
   "metadata": {},
   "source": [
    "Tras aplicar ajustes de hiperparámetros al modelo XGBoost, se evaluó su desempeño mediante validación cruzada en el conjunto Xtrain_valid. El resultado fue un R2 promedio de 0.5636, lo que indica que el modelo es capaz de explicar aproximadamente el 56.4% de la varianza en la variable objetivo (DIAS_ALMONEDA).\n",
    "\n",
    "Los hiperparámetros que generaron este desempeño fueron:\n",
    "n_estimators=400, max_depth=10, learning_rate=0.05, subsample=0.8 y colsample_bytree=1.0.\n"
   ]
  },
  {
   "cell_type": "code",
   "execution_count": 33,
   "metadata": {
    "colab": {
     "base_uri": "https://localhost:8080/"
    },
    "id": "H4WkusFPr4Yq",
    "outputId": "6eec7b0e-f35e-4e72-a4ef-38e26986e598"
   },
   "outputs": [
    {
     "data": {
      "image/png": "[encoded data removed]",
      "text/plain": [
       "<Figure size 1000x600 with 1 Axes>"
      ]
     },
     "metadata": {},
     "output_type": "display_data"
    }
   ],
   "source": [
    "\n",
    "\n",
    "                                                                                       # Entrenar el modelo con los mejores hiperparámetros\n",
    "final_model = XGBRegressor(\n",
    "    objective='reg:squarederror',\n",
    "    subsample=0.8,\n",
    "    n_estimators=400,\n",
    "    max_depth=10,\n",
    "    learning_rate=0.05,\n",
    "    colsample_bytree=1.0,\n",
    "    random_state=42\n",
    ")\n",
    "\n",
    "final_model.fit(Xtrain_valid, ytrain_valid)\n",
    "\n",
    "                                                                                       # Obtener importancia de variables del modelo\n",
    "importances = final_model.feature_importances_\n",
    "indices = np.argsort(importances)[::-1]\n",
    "\n",
    "\n",
    "try:\n",
    "    feature_names = Xtrain_valid.columns\n",
    "except:\n",
    "    feature_names = [f\"Var{i}\" for i in range(Xtrain_valid.shape[1])]\n",
    "\n",
    "                                                                                       #  Graficar las 10 más importantes\n",
    "plt.figure(figsize=(10, 6))\n",
    "plt.title(\"Importancia de variables (XGBoost interna)\")\n",
    "plt.bar(range(10), importances[indices[:10]], align=\"center\")\n",
    "plt.xticks(range(10), [feature_names[i] for i in indices[:10]], rotation=45)\n",
    "plt.ylabel(\"Importancia (ganancia promedio)\")\n",
    "plt.grid(True)\n",
    "plt.tight_layout()\n",
    "plt.show()\n"
   ]
  },
  {
   "cell_type": "code",
   "execution_count": 34,
   "metadata": {},
   "outputs": [
    {
     "name": "stdout",
     "output_type": "stream",
     "text": [
      "Evaluación en escala logarítmica:\n",
      "R2 entrenamiento: 0.6545\n",
      "R2 prueba       : 0.5712\n",
      "Diferencia      : 0.0833\n",
      "\\ Evaluación en escala original:\n",
      "R2 real: 0.4508\n",
      "RMSE   : 99.2511\n",
      "\\ R2 Dummy (log): -0.0000\n"
     ]
    },
    {
     "name": "stderr",
     "output_type": "stream",
     "text": [
      "C:\\Users\\david\\AppData\\Local\\Temp\\ipykernel_6884\\2447277779.py:20: RuntimeWarning: invalid value encountered in log1p\n",
      "  ytest_log = np.log1p(ytest['DIAS_ALMONEDA'].values)\n"
     ]
    }
   ],
   "source": [
    "\n",
    "final_model = XGBRegressor(\n",
    "    objective='reg:squarederror',\n",
    "    subsample=0.8,\n",
    "    n_estimators=400,\n",
    "    max_depth=10,\n",
    "    learning_rate=0.05,\n",
    "    colsample_bytree=1.0,\n",
    "    random_state=42\n",
    ")\n",
    "final_model.fit(Xtrain_valid, ytrain_valid)\n",
    "\n",
    "\n",
    "Xtest_scaled = scaler.transform(Xtest)\n",
    "\n",
    "\n",
    "y_pred_train = final_model.predict(Xtrain_valid)\n",
    "y_pred_test = final_model.predict(Xtest_scaled)\n",
    "\n",
    "\n",
    "ytest_log = np.log1p(ytest['DIAS_ALMONEDA'].values)\n",
    "\n",
    "\n",
    "mask_valid = ~np.isnan(ytest_log)\n",
    "\n",
    "\n",
    "r2_train_log = r2_score(ytrain_valid, y_pred_train)\n",
    "r2_test_log = r2_score(ytest_log[mask_valid], y_pred_test[mask_valid])\n",
    "\n",
    "print(\"Evaluación en escala logarítmica:\")\n",
    "print(f\"R2 entrenamiento: {r2_train_log:.4f}\")\n",
    "print(f\"R2 prueba       : {r2_test_log:.4f}\")\n",
    "print(f\"Diferencia      : {abs(r2_train_log - r2_test_log):.4f}\")\n",
    "\n",
    "\n",
    "y_pred_test_original = np.expm1(y_pred_test[mask_valid])\n",
    "ytest_original = ytest['DIAS_ALMONEDA'].values[mask_valid]\n",
    "\n",
    "r2_real = r2_score(ytest_original, y_pred_test_original)\n",
    "rmse_real = np.sqrt(mean_squared_error(ytest_original, y_pred_test_original))\n",
    "\n",
    "print(\"\\ Evaluación en escala original:\")\n",
    "print(f\"R2 real: {r2_real:.4f}\")\n",
    "print(f\"RMSE   : {rmse_real:.4f}\")\n",
    "\n",
    "\n",
    "dummy = DummyRegressor(strategy='mean')\n",
    "dummy.fit(Xtrain_valid, ytrain_valid)\n",
    "r2_dummy_log = dummy.score(Xtest_scaled[mask_valid], ytest_log[mask_valid])\n",
    "\n",
    "print(f\"\\ R2 Dummy (log): {r2_dummy_log:.4f}\")\n"
   ]
  },
  {
   "cell_type": "markdown",
   "metadata": {},
   "source": [
    "Tras aplicar ajustes de hiperparámetros al modelo XGBoost, se evaluó su desempeño mediante validación cruzada en el conjunto Xtrain_valid. El resultado fue un R2 promedio de 0.5636, lo que indica que el modelo es capaz de explicar aproximadamente el 56.4% de la varianza en la variable objetivo (DIAS_ALMONEDA). \n",
    "\n",
    "Posteriormente, el modelo fue reentrenado usando el 100% de los datos de entrenamiento (Xtrain_valid) y evaluado en el conjunto de prueba Xtest. Este modelo final mostró resultados sólidos tanto en la escala logarítmica como en la escala original.\n",
    "\n",
    "En la escala logarítmica, donde fue entrenado, el R2 en entrenamiento fue de 0.6545, y en la prueba fue de 0.5712, con una diferencia moderada de 0.0833. Esta brecha controlada confirma que el modelo no presenta sobreajuste severo y mantiene su capacidad para generalizar a nuevos datos. El hecho de que el R2 en entrenamiento haya sido superior al obtenido durante la validación cruzada se debe a que el modelo final fue ajustado usando la totalidad de los datos de entrenamiento.\n",
    "\n",
    "Al revertir la transformación logarítmica mediante expm1, se evaluó el rendimiento en la escala original, obteniéndose un R2 real de 0.4508, lo que indica que el modelo explica aproximadamente el 45% de la variabilidad real en el tiempo que tardan los artículos en llegar a almoneda. El RMSE fue de 99.25 días, lo que implica un error promedio cercano a 99 días. Si bien este margen puede parecer elevado, es razonable dada la dispersión natural de la variable objetivo."
   ]
  }
 ],
 "metadata": {
  "colab": {
   "authorship_tag": "ABX9TyNSGDhELdtMAbfcIGHaORWK",
   "provenance": []
  },
  "kernelspec": {
   "display_name": "itesm_venv",
   "language": "python",
   "name": "python3"
  },
  "language_info": {
   "codemirror_mode": {
    "name": "ipython",
    "version": 3
   },
   "file_extension": ".py",
   "mimetype": "text/x-python",
   "name": "python",
   "nbconvert_exporter": "python",
   "pygments_lexer": "ipython3",
   "version": "3.10.11"
  }
 },
 "nbformat": 4,
 "nbformat_minor": 0
}
